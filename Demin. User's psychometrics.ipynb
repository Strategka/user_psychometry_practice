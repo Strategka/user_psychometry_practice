{
 "cells": [
  {
   "cell_type": "markdown",
   "metadata": {},
   "source": [
    "# Практическая работа \"Психометрика пользователей социальной сети\""
   ]
  },
  {
   "cell_type": "markdown",
   "metadata": {},
   "source": [
    "Сделано Демином Олегом, J42111, 335428"
   ]
  },
  {
   "cell_type": "markdown",
   "metadata": {},
   "source": [
    "## Задание"
   ]
  },
  {
   "cell_type": "markdown",
   "metadata": {},
   "source": [
    "С помощью ВК API или парсера собрать данные 10 пользователей:\n",
    "1. Посты со стены на полную глубину\n",
    "2. Построить эмоциональные профили пользователей:\n",
    "  - Используйте модель определения эмоциональности русскоязычных текстов https://huggingface.co/cointegrated/rubert-tiny2-cedr-emotiondetection\n",
    "  - Постройте статические профили для пользователей, усреднив эмоциональные цифровые следы и выявив, таким образом, эмоциональные доминанты\n",
    "  - Постройте динамические профили для пользователей, усреднив эмоциональные цифровые следы раздельно по годам и выявив ежегодные эмоциональные доминанты\n",
    "  - Составить психометрические профили пользователей:\n",
    "    - В статике: по всем постам\n",
    "    - В динамике: по годовым интервалам"
   ]
  },
  {
   "cell_type": "markdown",
   "metadata": {},
   "source": [
    "## Ход работы"
   ]
  },
  {
   "cell_type": "markdown",
   "metadata": {},
   "source": [
    "### Библиотеки и глобальные константы"
   ]
  },
  {
   "cell_type": "code",
   "execution_count": 3,
   "metadata": {},
   "outputs": [],
   "source": [
    "from pathlib import Path\n",
    "\n",
    "import numpy as np\n",
    "import pandas as pd\n",
    "\n",
    "import plotly.express as px\n",
    "import plotly.graph_objects as go\n",
    "\n",
    "from plotly.subplots import make_subplots\n",
    "from transformers import BertForSequenceClassification, AutoTokenizer"
   ]
  },
  {
   "cell_type": "code",
   "execution_count": 4,
   "metadata": {},
   "outputs": [],
   "source": [
    "DATA_DIR = Path('./data/psycho')"
   ]
  },
  {
   "cell_type": "markdown",
   "metadata": {},
   "source": [
    "### Данные"
   ]
  },
  {
   "cell_type": "markdown",
   "metadata": {},
   "source": [
    "Для заданных пользователей в скрипте parsing.py была собрана их пользовательская информация и пользовательские посты."
   ]
  },
  {
   "cell_type": "code",
   "execution_count": 9,
   "metadata": {},
   "outputs": [
    {
     "data": {
      "text/html": [
       "<div>\n",
       "<style scoped>\n",
       "    .dataframe tbody tr th:only-of-type {\n",
       "        vertical-align: middle;\n",
       "    }\n",
       "\n",
       "    .dataframe tbody tr th {\n",
       "        vertical-align: top;\n",
       "    }\n",
       "\n",
       "    .dataframe thead th {\n",
       "        text-align: right;\n",
       "    }\n",
       "</style>\n",
       "<table border=\"1\" class=\"dataframe\">\n",
       "  <thead>\n",
       "    <tr style=\"text-align: right;\">\n",
       "      <th></th>\n",
       "      <th>id</th>\n",
       "      <th>domain</th>\n",
       "      <th>first_name</th>\n",
       "      <th>last_name</th>\n",
       "      <th>status</th>\n",
       "      <th>about</th>\n",
       "    </tr>\n",
       "  </thead>\n",
       "  <tbody>\n",
       "    <tr>\n",
       "      <th>0</th>\n",
       "      <td>90015688</td>\n",
       "      <td>geneza1</td>\n",
       "      <td>Святослав</td>\n",
       "      <td>Стародуб</td>\n",
       "      <td>Ain' t no rest for the wicked</td>\n",
       "      <td></td>\n",
       "    </tr>\n",
       "    <tr>\n",
       "      <th>1</th>\n",
       "      <td>339819489</td>\n",
       "      <td>biokita</td>\n",
       "      <td>Никита</td>\n",
       "      <td>Кузнецов</td>\n",
       "      <td>великие знания порождают великую скорбь</td>\n",
       "      <td>Я программист</td>\n",
       "    </tr>\n",
       "    <tr>\n",
       "      <th>2</th>\n",
       "      <td>212598813</td>\n",
       "      <td>n7weirdo</td>\n",
       "      <td>Анастасия</td>\n",
       "      <td>Петрушкина</td>\n",
       "      <td>Something’s changed in your face</td>\n",
       "      <td></td>\n",
       "    </tr>\n",
       "    <tr>\n",
       "      <th>3</th>\n",
       "      <td>204738925</td>\n",
       "      <td>mamonov5</td>\n",
       "      <td>Максим</td>\n",
       "      <td>Некрылов</td>\n",
       "      <td>Ответы?</td>\n",
       "      <td></td>\n",
       "    </tr>\n",
       "    <tr>\n",
       "      <th>4</th>\n",
       "      <td>89644563</td>\n",
       "      <td>0b1t_322</td>\n",
       "      <td>Даниил</td>\n",
       "      <td>Демин</td>\n",
       "      <td>Тебя что в гугле забанили</td>\n",
       "      <td></td>\n",
       "    </tr>\n",
       "    <tr>\n",
       "      <th>5</th>\n",
       "      <td>295508700</td>\n",
       "      <td>oldwood20</td>\n",
       "      <td>Иван</td>\n",
       "      <td>Никитин</td>\n",
       "      <td></td>\n",
       "      <td></td>\n",
       "    </tr>\n",
       "    <tr>\n",
       "      <th>6</th>\n",
       "      <td>451075313</td>\n",
       "      <td>zodiak1990</td>\n",
       "      <td>Владислав</td>\n",
       "      <td>Гедз</td>\n",
       "      <td>Без любви наше сердце лишь часы</td>\n",
       "      <td></td>\n",
       "    </tr>\n",
       "    <tr>\n",
       "      <th>7</th>\n",
       "      <td>173920498</td>\n",
       "      <td>getnocloser</td>\n",
       "      <td>Радж</td>\n",
       "      <td>Полянцев</td>\n",
       "      <td>last dance</td>\n",
       "      <td></td>\n",
       "    </tr>\n",
       "    <tr>\n",
       "      <th>8</th>\n",
       "      <td>213930403</td>\n",
       "      <td>gabchanskiu</td>\n",
       "      <td>Глеб</td>\n",
       "      <td>Игумнов</td>\n",
       "      <td></td>\n",
       "      <td></td>\n",
       "    </tr>\n",
       "    <tr>\n",
       "      <th>9</th>\n",
       "      <td>157971403</td>\n",
       "      <td>ukropmolodoi</td>\n",
       "      <td>David</td>\n",
       "      <td>Gvasalia</td>\n",
       "      <td>Вуконг Прайм</td>\n",
       "      <td></td>\n",
       "    </tr>\n",
       "    <tr>\n",
       "      <th>10</th>\n",
       "      <td>157938870</td>\n",
       "      <td>galyanovlovesyou</td>\n",
       "      <td>Алексей</td>\n",
       "      <td>Гальянов</td>\n",
       "      <td>At least complete one game before you die</td>\n",
       "      <td>75 дюймов над уровнем моря</td>\n",
       "    </tr>\n",
       "  </tbody>\n",
       "</table>\n",
       "</div>"
      ],
      "text/plain": [
       "           id            domain first_name   last_name  \\\n",
       "0    90015688           geneza1  Святослав    Стародуб   \n",
       "1   339819489           biokita     Никита    Кузнецов   \n",
       "2   212598813          n7weirdo  Анастасия  Петрушкина   \n",
       "3   204738925          mamonov5     Максим    Некрылов   \n",
       "4    89644563          0b1t_322     Даниил       Демин   \n",
       "5   295508700         oldwood20       Иван     Никитин   \n",
       "6   451075313        zodiak1990  Владислав        Гедз   \n",
       "7   173920498       getnocloser       Радж    Полянцев   \n",
       "8   213930403       gabchanskiu       Глеб     Игумнов   \n",
       "9   157971403      ukropmolodoi      David    Gvasalia   \n",
       "10  157938870  galyanovlovesyou    Алексей    Гальянов   \n",
       "\n",
       "                                       status                       about  \n",
       "0               Ain' t no rest for the wicked                              \n",
       "1     великие знания порождают великую скорбь               Я программист  \n",
       "2            Something’s changed in your face                              \n",
       "3                                     Ответы?                              \n",
       "4                   Тебя что в гугле забанили                              \n",
       "5                                                                          \n",
       "6             Без любви наше сердце лишь часы                              \n",
       "7                                  last dance                              \n",
       "8                                                                          \n",
       "9                                Вуконг Прайм                              \n",
       "10  At least complete one game before you die  75 дюймов над уровнем моря  "
      ]
     },
     "execution_count": 9,
     "metadata": {},
     "output_type": "execute_result"
    }
   ],
   "source": [
    "users = pd.read_csv(DATA_DIR / 'users.csv')\n",
    "\n",
    "users.fillna('', inplace=True)\n",
    "\n",
    "users"
   ]
  },
  {
   "cell_type": "code",
   "execution_count": 5,
   "metadata": {},
   "outputs": [
    {
     "data": {
      "text/html": [
       "<div>\n",
       "<style scoped>\n",
       "    .dataframe tbody tr th:only-of-type {\n",
       "        vertical-align: middle;\n",
       "    }\n",
       "\n",
       "    .dataframe tbody tr th {\n",
       "        vertical-align: top;\n",
       "    }\n",
       "\n",
       "    .dataframe thead th {\n",
       "        text-align: right;\n",
       "    }\n",
       "</style>\n",
       "<table border=\"1\" class=\"dataframe\">\n",
       "  <thead>\n",
       "    <tr style=\"text-align: right;\">\n",
       "      <th></th>\n",
       "      <th>id</th>\n",
       "      <th>text</th>\n",
       "      <th>from_id</th>\n",
       "      <th>owner_id</th>\n",
       "      <th>timestamp</th>\n",
       "      <th>comment_count</th>\n",
       "      <th>reposted_text</th>\n",
       "      <th>dt</th>\n",
       "    </tr>\n",
       "  </thead>\n",
       "  <tbody>\n",
       "    <tr>\n",
       "      <th>0</th>\n",
       "      <td>3273</td>\n",
       "      <td></td>\n",
       "      <td>90015688</td>\n",
       "      <td>90015688</td>\n",
       "      <td>1599489222</td>\n",
       "      <td>0</td>\n",
       "      <td>Одни поклонялись солнцу, другие боготворили лу...</td>\n",
       "      <td>2020-09-07 14:33:42</td>\n",
       "    </tr>\n",
       "    <tr>\n",
       "      <th>1</th>\n",
       "      <td>3272</td>\n",
       "      <td></td>\n",
       "      <td>90015688</td>\n",
       "      <td>90015688</td>\n",
       "      <td>1592246372</td>\n",
       "      <td>0</td>\n",
       "      <td>Летние #ЕжедневныеНаградыLOL уже ждут вас в кл...</td>\n",
       "      <td>2020-06-15 18:39:32</td>\n",
       "    </tr>\n",
       "    <tr>\n",
       "      <th>2</th>\n",
       "      <td>3271</td>\n",
       "      <td></td>\n",
       "      <td>90015688</td>\n",
       "      <td>90015688</td>\n",
       "      <td>1581675983</td>\n",
       "      <td>0</td>\n",
       "      <td>Рады представить новый турнир КОРОЛЕВСКАЯ БИТВА 👑</td>\n",
       "      <td>2020-02-14 10:26:23</td>\n",
       "    </tr>\n",
       "    <tr>\n",
       "      <th>3</th>\n",
       "      <td>3270</td>\n",
       "      <td></td>\n",
       "      <td>90015688</td>\n",
       "      <td>90015688</td>\n",
       "      <td>1574024845</td>\n",
       "      <td>0</td>\n",
       "      <td>⚠Хей, у нас НОВОСТИ!!! \\nПривет путник, мы при...</td>\n",
       "      <td>2019-11-17 21:07:25</td>\n",
       "    </tr>\n",
       "    <tr>\n",
       "      <th>4</th>\n",
       "      <td>3269</td>\n",
       "      <td></td>\n",
       "      <td>90015688</td>\n",
       "      <td>90015688</td>\n",
       "      <td>1573895758</td>\n",
       "      <td>0</td>\n",
       "      <td>#Hearthstone Конкурс! 💥 \\nПолучи Пакет «Натиск...</td>\n",
       "      <td>2019-11-16 09:15:58</td>\n",
       "    </tr>\n",
       "    <tr>\n",
       "      <th>...</th>\n",
       "      <td>...</td>\n",
       "      <td>...</td>\n",
       "      <td>...</td>\n",
       "      <td>...</td>\n",
       "      <td>...</td>\n",
       "      <td>...</td>\n",
       "      <td>...</td>\n",
       "      <td>...</td>\n",
       "    </tr>\n",
       "    <tr>\n",
       "      <th>2225</th>\n",
       "      <td>9</td>\n",
       "      <td>Арр! Я получил 1 уровень в игре \"Вампиры\". Кто...</td>\n",
       "      <td>90015688</td>\n",
       "      <td>90015688</td>\n",
       "      <td>1288255976</td>\n",
       "      <td>0</td>\n",
       "      <td></td>\n",
       "      <td>2010-10-28 08:52:56</td>\n",
       "    </tr>\n",
       "    <tr>\n",
       "      <th>2226</th>\n",
       "      <td>8</td>\n",
       "      <td>Теперь я - \"Избранник Крови I уровня\" в игре \"...</td>\n",
       "      <td>90015688</td>\n",
       "      <td>90015688</td>\n",
       "      <td>1288255920</td>\n",
       "      <td>0</td>\n",
       "      <td></td>\n",
       "      <td>2010-10-28 08:52:00</td>\n",
       "    </tr>\n",
       "    <tr>\n",
       "      <th>2227</th>\n",
       "      <td>3</td>\n",
       "      <td>я Вагнер Лав хаха</td>\n",
       "      <td>90015688</td>\n",
       "      <td>90015688</td>\n",
       "      <td>1288115539</td>\n",
       "      <td>0</td>\n",
       "      <td></td>\n",
       "      <td>2010-10-26 17:52:19</td>\n",
       "    </tr>\n",
       "    <tr>\n",
       "      <th>2228</th>\n",
       "      <td>2</td>\n",
       "      <td>Привет, Святослав! Я узнал, Какой ты футболист...</td>\n",
       "      <td>89826923</td>\n",
       "      <td>90015688</td>\n",
       "      <td>1286210217</td>\n",
       "      <td>0</td>\n",
       "      <td></td>\n",
       "      <td>2010-10-04 16:36:57</td>\n",
       "    </tr>\n",
       "    <tr>\n",
       "      <th>2229</th>\n",
       "      <td>1</td>\n",
       "      <td>http://vkontakte.ru/app1951952_79940053</td>\n",
       "      <td>78788851</td>\n",
       "      <td>90015688</td>\n",
       "      <td>1285160824</td>\n",
       "      <td>0</td>\n",
       "      <td></td>\n",
       "      <td>2010-09-22 13:07:04</td>\n",
       "    </tr>\n",
       "  </tbody>\n",
       "</table>\n",
       "<p>2230 rows × 8 columns</p>\n",
       "</div>"
      ],
      "text/plain": [
       "        id                                               text   from_id  \\\n",
       "0     3273                                                     90015688   \n",
       "1     3272                                                     90015688   \n",
       "2     3271                                                     90015688   \n",
       "3     3270                                                     90015688   \n",
       "4     3269                                                     90015688   \n",
       "...    ...                                                ...       ...   \n",
       "2225     9  Арр! Я получил 1 уровень в игре \"Вампиры\". Кто...  90015688   \n",
       "2226     8  Теперь я - \"Избранник Крови I уровня\" в игре \"...  90015688   \n",
       "2227     3                                  я Вагнер Лав хаха  90015688   \n",
       "2228     2  Привет, Святослав! Я узнал, Какой ты футболист...  89826923   \n",
       "2229     1            http://vkontakte.ru/app1951952_79940053  78788851   \n",
       "\n",
       "      owner_id   timestamp  comment_count  \\\n",
       "0     90015688  1599489222              0   \n",
       "1     90015688  1592246372              0   \n",
       "2     90015688  1581675983              0   \n",
       "3     90015688  1574024845              0   \n",
       "4     90015688  1573895758              0   \n",
       "...        ...         ...            ...   \n",
       "2225  90015688  1288255976              0   \n",
       "2226  90015688  1288255920              0   \n",
       "2227  90015688  1288115539              0   \n",
       "2228  90015688  1286210217              0   \n",
       "2229  90015688  1285160824              0   \n",
       "\n",
       "                                          reposted_text                  dt  \n",
       "0     Одни поклонялись солнцу, другие боготворили лу... 2020-09-07 14:33:42  \n",
       "1     Летние #ЕжедневныеНаградыLOL уже ждут вас в кл... 2020-06-15 18:39:32  \n",
       "2     Рады представить новый турнир КОРОЛЕВСКАЯ БИТВА 👑 2020-02-14 10:26:23  \n",
       "3     ⚠Хей, у нас НОВОСТИ!!! \\nПривет путник, мы при... 2019-11-17 21:07:25  \n",
       "4     #Hearthstone Конкурс! 💥 \\nПолучи Пакет «Натиск... 2019-11-16 09:15:58  \n",
       "...                                                 ...                 ...  \n",
       "2225                                                    2010-10-28 08:52:56  \n",
       "2226                                                    2010-10-28 08:52:00  \n",
       "2227                                                    2010-10-26 17:52:19  \n",
       "2228                                                    2010-10-04 16:36:57  \n",
       "2229                                                    2010-09-22 13:07:04  \n",
       "\n",
       "[2230 rows x 8 columns]"
      ]
     },
     "execution_count": 5,
     "metadata": {},
     "output_type": "execute_result"
    }
   ],
   "source": [
    "posts = pd.read_csv(DATA_DIR / 'posts.csv')\n",
    "\n",
    "posts.text.fillna('', inplace=True)\n",
    "posts.reposted_text.fillna('', inplace=True)\n",
    "\n",
    "posts['dt'] = pd.to_datetime(posts['timestamp'], unit='s')\n",
    "\n",
    "posts"
   ]
  },
  {
   "cell_type": "markdown",
   "metadata": {},
   "source": [
    "Распределение количество постов по пользователям"
   ]
  },
  {
   "cell_type": "code",
   "execution_count": 7,
   "metadata": {},
   "outputs": [
    {
     "data": {
      "text/plain": [
       "90015688     1896\n",
       "339819489     101\n",
       "212598813      77\n",
       "451075313      52\n",
       "173920498      23\n",
       "295508700      19\n",
       "213930403      17\n",
       "157971403      16\n",
       "89644563       13\n",
       "204738925       9\n",
       "157938870       7\n",
       "Name: owner_id, dtype: int64"
      ]
     },
     "execution_count": 7,
     "metadata": {},
     "output_type": "execute_result"
    }
   ],
   "source": [
    "posts.owner_id.value_counts()"
   ]
  },
  {
   "cell_type": "markdown",
   "metadata": {},
   "source": [
    "### Извлечение эмоциональной направленности из текстов пользователя"
   ]
  },
  {
   "cell_type": "markdown",
   "metadata": {},
   "source": [
    "Для извлечения будет использоватся модель **cointegrated/rubert-tiny2-cedr-emotion-detection**.\n",
    "\n",
    "Данная модель определяет следующие эмоции:\n",
    " - no emotion\n",
    " - joy\n",
    " - sadness\n",
    " - surprise\n",
    " - fear\n",
    " - anger\n",
    "\n",
    "Для начала извлечём эмоциональные направленности текстов постов пользователей."
   ]
  },
  {
   "cell_type": "code",
   "execution_count": 10,
   "metadata": {},
   "outputs": [],
   "source": [
    "tokenizer = AutoTokenizer.from_pretrained('cointegrated/rubert-tiny2-cedr-emotion-detection')\n",
    "model = BertForSequenceClassification.from_pretrained('cointegrated/rubert-tiny2-cedr-emotion-detection')"
   ]
  },
  {
   "cell_type": "code",
   "execution_count": 11,
   "metadata": {},
   "outputs": [
    {
     "data": {
      "text/plain": [
       "['no_emotion', 'joy', 'sadness', 'surprise', 'fear', 'anger']"
      ]
     },
     "execution_count": 11,
     "metadata": {},
     "output_type": "execute_result"
    }
   ],
   "source": [
    "labels = list(model.config.id2label.values())\n",
    "\n",
    "labels"
   ]
  },
  {
   "cell_type": "code",
   "execution_count": 12,
   "metadata": {},
   "outputs": [],
   "source": [
    "def text_to_emotions_probs(text):\n",
    "    if not text:\n",
    "        return np.zeros((1, 6))\n",
    "\n",
    "    enc = tokenizer(text, padding=True, truncation=True, return_tensors='pt')\n",
    "    out = model(**enc)\n",
    "    logits = out.logits.detach().numpy()\n",
    "    odds = np.exp(logits)\n",
    "    return (odds / (1 + odds))"
   ]
  },
  {
   "cell_type": "code",
   "execution_count": 13,
   "metadata": {},
   "outputs": [
    {
     "data": {
      "text/html": [
       "<div>\n",
       "<style scoped>\n",
       "    .dataframe tbody tr th:only-of-type {\n",
       "        vertical-align: middle;\n",
       "    }\n",
       "\n",
       "    .dataframe tbody tr th {\n",
       "        vertical-align: top;\n",
       "    }\n",
       "\n",
       "    .dataframe thead th {\n",
       "        text-align: right;\n",
       "    }\n",
       "</style>\n",
       "<table border=\"1\" class=\"dataframe\">\n",
       "  <thead>\n",
       "    <tr style=\"text-align: right;\">\n",
       "      <th></th>\n",
       "      <th>no_emotion</th>\n",
       "      <th>joy</th>\n",
       "      <th>sadness</th>\n",
       "      <th>surprise</th>\n",
       "      <th>fear</th>\n",
       "      <th>anger</th>\n",
       "    </tr>\n",
       "  </thead>\n",
       "  <tbody>\n",
       "    <tr>\n",
       "      <th>0</th>\n",
       "      <td>0.000000</td>\n",
       "      <td>0.000000</td>\n",
       "      <td>0.000000</td>\n",
       "      <td>0.000000</td>\n",
       "      <td>0.000000</td>\n",
       "      <td>0.000000</td>\n",
       "    </tr>\n",
       "    <tr>\n",
       "      <th>1</th>\n",
       "      <td>0.000000</td>\n",
       "      <td>0.000000</td>\n",
       "      <td>0.000000</td>\n",
       "      <td>0.000000</td>\n",
       "      <td>0.000000</td>\n",
       "      <td>0.000000</td>\n",
       "    </tr>\n",
       "    <tr>\n",
       "      <th>2</th>\n",
       "      <td>0.000000</td>\n",
       "      <td>0.000000</td>\n",
       "      <td>0.000000</td>\n",
       "      <td>0.000000</td>\n",
       "      <td>0.000000</td>\n",
       "      <td>0.000000</td>\n",
       "    </tr>\n",
       "    <tr>\n",
       "      <th>3</th>\n",
       "      <td>0.000000</td>\n",
       "      <td>0.000000</td>\n",
       "      <td>0.000000</td>\n",
       "      <td>0.000000</td>\n",
       "      <td>0.000000</td>\n",
       "      <td>0.000000</td>\n",
       "    </tr>\n",
       "    <tr>\n",
       "      <th>4</th>\n",
       "      <td>0.000000</td>\n",
       "      <td>0.000000</td>\n",
       "      <td>0.000000</td>\n",
       "      <td>0.000000</td>\n",
       "      <td>0.000000</td>\n",
       "      <td>0.000000</td>\n",
       "    </tr>\n",
       "    <tr>\n",
       "      <th>...</th>\n",
       "      <td>...</td>\n",
       "      <td>...</td>\n",
       "      <td>...</td>\n",
       "      <td>...</td>\n",
       "      <td>...</td>\n",
       "      <td>...</td>\n",
       "    </tr>\n",
       "    <tr>\n",
       "      <th>2225</th>\n",
       "      <td>0.062843</td>\n",
       "      <td>0.022415</td>\n",
       "      <td>0.002596</td>\n",
       "      <td>0.749405</td>\n",
       "      <td>0.063894</td>\n",
       "      <td>0.097042</td>\n",
       "    </tr>\n",
       "    <tr>\n",
       "      <th>2226</th>\n",
       "      <td>0.572088</td>\n",
       "      <td>0.008883</td>\n",
       "      <td>0.001178</td>\n",
       "      <td>0.158655</td>\n",
       "      <td>0.019917</td>\n",
       "      <td>0.031954</td>\n",
       "    </tr>\n",
       "    <tr>\n",
       "      <th>2227</th>\n",
       "      <td>0.974816</td>\n",
       "      <td>0.013609</td>\n",
       "      <td>0.002528</td>\n",
       "      <td>0.004640</td>\n",
       "      <td>0.003987</td>\n",
       "      <td>0.007585</td>\n",
       "    </tr>\n",
       "    <tr>\n",
       "      <th>2228</th>\n",
       "      <td>0.016983</td>\n",
       "      <td>0.889435</td>\n",
       "      <td>0.003846</td>\n",
       "      <td>0.389407</td>\n",
       "      <td>0.026945</td>\n",
       "      <td>0.014734</td>\n",
       "    </tr>\n",
       "    <tr>\n",
       "      <th>2229</th>\n",
       "      <td>0.098901</td>\n",
       "      <td>0.044601</td>\n",
       "      <td>0.001860</td>\n",
       "      <td>0.590929</td>\n",
       "      <td>0.028681</td>\n",
       "      <td>0.032577</td>\n",
       "    </tr>\n",
       "  </tbody>\n",
       "</table>\n",
       "<p>2230 rows × 6 columns</p>\n",
       "</div>"
      ],
      "text/plain": [
       "      no_emotion       joy   sadness  surprise      fear     anger\n",
       "0       0.000000  0.000000  0.000000  0.000000  0.000000  0.000000\n",
       "1       0.000000  0.000000  0.000000  0.000000  0.000000  0.000000\n",
       "2       0.000000  0.000000  0.000000  0.000000  0.000000  0.000000\n",
       "3       0.000000  0.000000  0.000000  0.000000  0.000000  0.000000\n",
       "4       0.000000  0.000000  0.000000  0.000000  0.000000  0.000000\n",
       "...          ...       ...       ...       ...       ...       ...\n",
       "2225    0.062843  0.022415  0.002596  0.749405  0.063894  0.097042\n",
       "2226    0.572088  0.008883  0.001178  0.158655  0.019917  0.031954\n",
       "2227    0.974816  0.013609  0.002528  0.004640  0.003987  0.007585\n",
       "2228    0.016983  0.889435  0.003846  0.389407  0.026945  0.014734\n",
       "2229    0.098901  0.044601  0.001860  0.590929  0.028681  0.032577\n",
       "\n",
       "[2230 rows x 6 columns]"
      ]
     },
     "execution_count": 13,
     "metadata": {},
     "output_type": "execute_result"
    }
   ],
   "source": [
    "posts_texts = posts.text.tolist()\n",
    "\n",
    "posts_texts_emotions = [text_to_emotions_probs(text) for text in posts_texts]\n",
    "posts_texts_emotions = np.concatenate(posts_texts_emotions, axis=0)\n",
    "\n",
    "texts_emotions = pd.DataFrame(posts_texts_emotions, columns=labels)\n",
    "\n",
    "texts_emotions\n"
   ]
  },
  {
   "cell_type": "code",
   "execution_count": 14,
   "metadata": {},
   "outputs": [
    {
     "data": {
      "text/html": [
       "<div>\n",
       "<style scoped>\n",
       "    .dataframe tbody tr th:only-of-type {\n",
       "        vertical-align: middle;\n",
       "    }\n",
       "\n",
       "    .dataframe tbody tr th {\n",
       "        vertical-align: top;\n",
       "    }\n",
       "\n",
       "    .dataframe thead th {\n",
       "        text-align: right;\n",
       "    }\n",
       "</style>\n",
       "<table border=\"1\" class=\"dataframe\">\n",
       "  <thead>\n",
       "    <tr style=\"text-align: right;\">\n",
       "      <th></th>\n",
       "      <th>id</th>\n",
       "      <th>text</th>\n",
       "      <th>from_id</th>\n",
       "      <th>owner_id</th>\n",
       "      <th>timestamp</th>\n",
       "      <th>comment_count</th>\n",
       "      <th>reposted_text</th>\n",
       "      <th>dt</th>\n",
       "      <th>no_emotion</th>\n",
       "      <th>joy</th>\n",
       "      <th>sadness</th>\n",
       "      <th>surprise</th>\n",
       "      <th>fear</th>\n",
       "      <th>anger</th>\n",
       "    </tr>\n",
       "  </thead>\n",
       "  <tbody>\n",
       "    <tr>\n",
       "      <th>0</th>\n",
       "      <td>3273</td>\n",
       "      <td></td>\n",
       "      <td>90015688</td>\n",
       "      <td>90015688</td>\n",
       "      <td>1599489222</td>\n",
       "      <td>0</td>\n",
       "      <td>Одни поклонялись солнцу, другие боготворили лу...</td>\n",
       "      <td>2020-09-07 14:33:42</td>\n",
       "      <td>0.000000</td>\n",
       "      <td>0.000000</td>\n",
       "      <td>0.000000</td>\n",
       "      <td>0.000000</td>\n",
       "      <td>0.000000</td>\n",
       "      <td>0.000000</td>\n",
       "    </tr>\n",
       "    <tr>\n",
       "      <th>1</th>\n",
       "      <td>3272</td>\n",
       "      <td></td>\n",
       "      <td>90015688</td>\n",
       "      <td>90015688</td>\n",
       "      <td>1592246372</td>\n",
       "      <td>0</td>\n",
       "      <td>Летние #ЕжедневныеНаградыLOL уже ждут вас в кл...</td>\n",
       "      <td>2020-06-15 18:39:32</td>\n",
       "      <td>0.000000</td>\n",
       "      <td>0.000000</td>\n",
       "      <td>0.000000</td>\n",
       "      <td>0.000000</td>\n",
       "      <td>0.000000</td>\n",
       "      <td>0.000000</td>\n",
       "    </tr>\n",
       "    <tr>\n",
       "      <th>2</th>\n",
       "      <td>3271</td>\n",
       "      <td></td>\n",
       "      <td>90015688</td>\n",
       "      <td>90015688</td>\n",
       "      <td>1581675983</td>\n",
       "      <td>0</td>\n",
       "      <td>Рады представить новый турнир КОРОЛЕВСКАЯ БИТВА 👑</td>\n",
       "      <td>2020-02-14 10:26:23</td>\n",
       "      <td>0.000000</td>\n",
       "      <td>0.000000</td>\n",
       "      <td>0.000000</td>\n",
       "      <td>0.000000</td>\n",
       "      <td>0.000000</td>\n",
       "      <td>0.000000</td>\n",
       "    </tr>\n",
       "    <tr>\n",
       "      <th>3</th>\n",
       "      <td>3270</td>\n",
       "      <td></td>\n",
       "      <td>90015688</td>\n",
       "      <td>90015688</td>\n",
       "      <td>1574024845</td>\n",
       "      <td>0</td>\n",
       "      <td>⚠Хей, у нас НОВОСТИ!!! \\nПривет путник, мы при...</td>\n",
       "      <td>2019-11-17 21:07:25</td>\n",
       "      <td>0.000000</td>\n",
       "      <td>0.000000</td>\n",
       "      <td>0.000000</td>\n",
       "      <td>0.000000</td>\n",
       "      <td>0.000000</td>\n",
       "      <td>0.000000</td>\n",
       "    </tr>\n",
       "    <tr>\n",
       "      <th>4</th>\n",
       "      <td>3269</td>\n",
       "      <td></td>\n",
       "      <td>90015688</td>\n",
       "      <td>90015688</td>\n",
       "      <td>1573895758</td>\n",
       "      <td>0</td>\n",
       "      <td>#Hearthstone Конкурс! 💥 \\nПолучи Пакет «Натиск...</td>\n",
       "      <td>2019-11-16 09:15:58</td>\n",
       "      <td>0.000000</td>\n",
       "      <td>0.000000</td>\n",
       "      <td>0.000000</td>\n",
       "      <td>0.000000</td>\n",
       "      <td>0.000000</td>\n",
       "      <td>0.000000</td>\n",
       "    </tr>\n",
       "    <tr>\n",
       "      <th>...</th>\n",
       "      <td>...</td>\n",
       "      <td>...</td>\n",
       "      <td>...</td>\n",
       "      <td>...</td>\n",
       "      <td>...</td>\n",
       "      <td>...</td>\n",
       "      <td>...</td>\n",
       "      <td>...</td>\n",
       "      <td>...</td>\n",
       "      <td>...</td>\n",
       "      <td>...</td>\n",
       "      <td>...</td>\n",
       "      <td>...</td>\n",
       "      <td>...</td>\n",
       "    </tr>\n",
       "    <tr>\n",
       "      <th>2225</th>\n",
       "      <td>9</td>\n",
       "      <td>Арр! Я получил 1 уровень в игре \"Вампиры\". Кто...</td>\n",
       "      <td>90015688</td>\n",
       "      <td>90015688</td>\n",
       "      <td>1288255976</td>\n",
       "      <td>0</td>\n",
       "      <td></td>\n",
       "      <td>2010-10-28 08:52:56</td>\n",
       "      <td>0.062843</td>\n",
       "      <td>0.022415</td>\n",
       "      <td>0.002596</td>\n",
       "      <td>0.749405</td>\n",
       "      <td>0.063894</td>\n",
       "      <td>0.097042</td>\n",
       "    </tr>\n",
       "    <tr>\n",
       "      <th>2226</th>\n",
       "      <td>8</td>\n",
       "      <td>Теперь я - \"Избранник Крови I уровня\" в игре \"...</td>\n",
       "      <td>90015688</td>\n",
       "      <td>90015688</td>\n",
       "      <td>1288255920</td>\n",
       "      <td>0</td>\n",
       "      <td></td>\n",
       "      <td>2010-10-28 08:52:00</td>\n",
       "      <td>0.572088</td>\n",
       "      <td>0.008883</td>\n",
       "      <td>0.001178</td>\n",
       "      <td>0.158655</td>\n",
       "      <td>0.019917</td>\n",
       "      <td>0.031954</td>\n",
       "    </tr>\n",
       "    <tr>\n",
       "      <th>2227</th>\n",
       "      <td>3</td>\n",
       "      <td>я Вагнер Лав хаха</td>\n",
       "      <td>90015688</td>\n",
       "      <td>90015688</td>\n",
       "      <td>1288115539</td>\n",
       "      <td>0</td>\n",
       "      <td></td>\n",
       "      <td>2010-10-26 17:52:19</td>\n",
       "      <td>0.974816</td>\n",
       "      <td>0.013609</td>\n",
       "      <td>0.002528</td>\n",
       "      <td>0.004640</td>\n",
       "      <td>0.003987</td>\n",
       "      <td>0.007585</td>\n",
       "    </tr>\n",
       "    <tr>\n",
       "      <th>2228</th>\n",
       "      <td>2</td>\n",
       "      <td>Привет, Святослав! Я узнал, Какой ты футболист...</td>\n",
       "      <td>89826923</td>\n",
       "      <td>90015688</td>\n",
       "      <td>1286210217</td>\n",
       "      <td>0</td>\n",
       "      <td></td>\n",
       "      <td>2010-10-04 16:36:57</td>\n",
       "      <td>0.016983</td>\n",
       "      <td>0.889435</td>\n",
       "      <td>0.003846</td>\n",
       "      <td>0.389407</td>\n",
       "      <td>0.026945</td>\n",
       "      <td>0.014734</td>\n",
       "    </tr>\n",
       "    <tr>\n",
       "      <th>2229</th>\n",
       "      <td>1</td>\n",
       "      <td>http://vkontakte.ru/app1951952_79940053</td>\n",
       "      <td>78788851</td>\n",
       "      <td>90015688</td>\n",
       "      <td>1285160824</td>\n",
       "      <td>0</td>\n",
       "      <td></td>\n",
       "      <td>2010-09-22 13:07:04</td>\n",
       "      <td>0.098901</td>\n",
       "      <td>0.044601</td>\n",
       "      <td>0.001860</td>\n",
       "      <td>0.590929</td>\n",
       "      <td>0.028681</td>\n",
       "      <td>0.032577</td>\n",
       "    </tr>\n",
       "  </tbody>\n",
       "</table>\n",
       "<p>2230 rows × 14 columns</p>\n",
       "</div>"
      ],
      "text/plain": [
       "        id                                               text   from_id  \\\n",
       "0     3273                                                     90015688   \n",
       "1     3272                                                     90015688   \n",
       "2     3271                                                     90015688   \n",
       "3     3270                                                     90015688   \n",
       "4     3269                                                     90015688   \n",
       "...    ...                                                ...       ...   \n",
       "2225     9  Арр! Я получил 1 уровень в игре \"Вампиры\". Кто...  90015688   \n",
       "2226     8  Теперь я - \"Избранник Крови I уровня\" в игре \"...  90015688   \n",
       "2227     3                                  я Вагнер Лав хаха  90015688   \n",
       "2228     2  Привет, Святослав! Я узнал, Какой ты футболист...  89826923   \n",
       "2229     1            http://vkontakte.ru/app1951952_79940053  78788851   \n",
       "\n",
       "      owner_id   timestamp  comment_count  \\\n",
       "0     90015688  1599489222              0   \n",
       "1     90015688  1592246372              0   \n",
       "2     90015688  1581675983              0   \n",
       "3     90015688  1574024845              0   \n",
       "4     90015688  1573895758              0   \n",
       "...        ...         ...            ...   \n",
       "2225  90015688  1288255976              0   \n",
       "2226  90015688  1288255920              0   \n",
       "2227  90015688  1288115539              0   \n",
       "2228  90015688  1286210217              0   \n",
       "2229  90015688  1285160824              0   \n",
       "\n",
       "                                          reposted_text                  dt  \\\n",
       "0     Одни поклонялись солнцу, другие боготворили лу... 2020-09-07 14:33:42   \n",
       "1     Летние #ЕжедневныеНаградыLOL уже ждут вас в кл... 2020-06-15 18:39:32   \n",
       "2     Рады представить новый турнир КОРОЛЕВСКАЯ БИТВА 👑 2020-02-14 10:26:23   \n",
       "3     ⚠Хей, у нас НОВОСТИ!!! \\nПривет путник, мы при... 2019-11-17 21:07:25   \n",
       "4     #Hearthstone Конкурс! 💥 \\nПолучи Пакет «Натиск... 2019-11-16 09:15:58   \n",
       "...                                                 ...                 ...   \n",
       "2225                                                    2010-10-28 08:52:56   \n",
       "2226                                                    2010-10-28 08:52:00   \n",
       "2227                                                    2010-10-26 17:52:19   \n",
       "2228                                                    2010-10-04 16:36:57   \n",
       "2229                                                    2010-09-22 13:07:04   \n",
       "\n",
       "      no_emotion       joy   sadness  surprise      fear     anger  \n",
       "0       0.000000  0.000000  0.000000  0.000000  0.000000  0.000000  \n",
       "1       0.000000  0.000000  0.000000  0.000000  0.000000  0.000000  \n",
       "2       0.000000  0.000000  0.000000  0.000000  0.000000  0.000000  \n",
       "3       0.000000  0.000000  0.000000  0.000000  0.000000  0.000000  \n",
       "4       0.000000  0.000000  0.000000  0.000000  0.000000  0.000000  \n",
       "...          ...       ...       ...       ...       ...       ...  \n",
       "2225    0.062843  0.022415  0.002596  0.749405  0.063894  0.097042  \n",
       "2226    0.572088  0.008883  0.001178  0.158655  0.019917  0.031954  \n",
       "2227    0.974816  0.013609  0.002528  0.004640  0.003987  0.007585  \n",
       "2228    0.016983  0.889435  0.003846  0.389407  0.026945  0.014734  \n",
       "2229    0.098901  0.044601  0.001860  0.590929  0.028681  0.032577  \n",
       "\n",
       "[2230 rows x 14 columns]"
      ]
     },
     "execution_count": 14,
     "metadata": {},
     "output_type": "execute_result"
    }
   ],
   "source": [
    "posts = pd.concat([posts, texts_emotions], axis=1)\n",
    "\n",
    "posts"
   ]
  },
  {
   "cell_type": "markdown",
   "metadata": {},
   "source": [
    "### Статические профили пользователей"
   ]
  },
  {
   "cell_type": "code",
   "execution_count": 15,
   "metadata": {},
   "outputs": [
    {
     "data": {
      "text/html": [
       "<div>\n",
       "<style scoped>\n",
       "    .dataframe tbody tr th:only-of-type {\n",
       "        vertical-align: middle;\n",
       "    }\n",
       "\n",
       "    .dataframe tbody tr th {\n",
       "        vertical-align: top;\n",
       "    }\n",
       "\n",
       "    .dataframe thead th {\n",
       "        text-align: right;\n",
       "    }\n",
       "</style>\n",
       "<table border=\"1\" class=\"dataframe\">\n",
       "  <thead>\n",
       "    <tr style=\"text-align: right;\">\n",
       "      <th></th>\n",
       "      <th>owner_id</th>\n",
       "      <th>no_emotion</th>\n",
       "      <th>joy</th>\n",
       "      <th>sadness</th>\n",
       "      <th>surprise</th>\n",
       "      <th>fear</th>\n",
       "      <th>anger</th>\n",
       "    </tr>\n",
       "  </thead>\n",
       "  <tbody>\n",
       "    <tr>\n",
       "      <th>0</th>\n",
       "      <td>89644563</td>\n",
       "      <td>0.030014</td>\n",
       "      <td>0.068093</td>\n",
       "      <td>0.020134</td>\n",
       "      <td>0.021619</td>\n",
       "      <td>0.011241</td>\n",
       "      <td>0.052356</td>\n",
       "    </tr>\n",
       "    <tr>\n",
       "      <th>1</th>\n",
       "      <td>90015688</td>\n",
       "      <td>0.050604</td>\n",
       "      <td>0.070144</td>\n",
       "      <td>0.034560</td>\n",
       "      <td>0.094034</td>\n",
       "      <td>0.012539</td>\n",
       "      <td>0.034427</td>\n",
       "    </tr>\n",
       "    <tr>\n",
       "      <th>2</th>\n",
       "      <td>157938870</td>\n",
       "      <td>0.574068</td>\n",
       "      <td>0.303918</td>\n",
       "      <td>0.004185</td>\n",
       "      <td>0.033610</td>\n",
       "      <td>0.011059</td>\n",
       "      <td>0.160649</td>\n",
       "    </tr>\n",
       "    <tr>\n",
       "      <th>3</th>\n",
       "      <td>157971403</td>\n",
       "      <td>0.180897</td>\n",
       "      <td>0.015992</td>\n",
       "      <td>0.023384</td>\n",
       "      <td>0.094342</td>\n",
       "      <td>0.025262</td>\n",
       "      <td>0.068464</td>\n",
       "    </tr>\n",
       "    <tr>\n",
       "      <th>4</th>\n",
       "      <td>173920498</td>\n",
       "      <td>0.391641</td>\n",
       "      <td>0.161572</td>\n",
       "      <td>0.052305</td>\n",
       "      <td>0.036861</td>\n",
       "      <td>0.013360</td>\n",
       "      <td>0.031061</td>\n",
       "    </tr>\n",
       "    <tr>\n",
       "      <th>5</th>\n",
       "      <td>204738925</td>\n",
       "      <td>0.242719</td>\n",
       "      <td>0.242040</td>\n",
       "      <td>0.091838</td>\n",
       "      <td>0.024137</td>\n",
       "      <td>0.019925</td>\n",
       "      <td>0.015613</td>\n",
       "    </tr>\n",
       "    <tr>\n",
       "      <th>6</th>\n",
       "      <td>212598813</td>\n",
       "      <td>0.169518</td>\n",
       "      <td>0.161991</td>\n",
       "      <td>0.012731</td>\n",
       "      <td>0.055914</td>\n",
       "      <td>0.029641</td>\n",
       "      <td>0.059835</td>\n",
       "    </tr>\n",
       "    <tr>\n",
       "      <th>7</th>\n",
       "      <td>213930403</td>\n",
       "      <td>0.025473</td>\n",
       "      <td>0.810044</td>\n",
       "      <td>0.013615</td>\n",
       "      <td>0.072344</td>\n",
       "      <td>0.011205</td>\n",
       "      <td>0.017987</td>\n",
       "    </tr>\n",
       "    <tr>\n",
       "      <th>8</th>\n",
       "      <td>295508700</td>\n",
       "      <td>0.093885</td>\n",
       "      <td>0.090711</td>\n",
       "      <td>0.004000</td>\n",
       "      <td>0.052107</td>\n",
       "      <td>0.027095</td>\n",
       "      <td>0.096335</td>\n",
       "    </tr>\n",
       "    <tr>\n",
       "      <th>9</th>\n",
       "      <td>339819489</td>\n",
       "      <td>0.113289</td>\n",
       "      <td>0.041597</td>\n",
       "      <td>0.002436</td>\n",
       "      <td>0.006952</td>\n",
       "      <td>0.014707</td>\n",
       "      <td>0.028233</td>\n",
       "    </tr>\n",
       "    <tr>\n",
       "      <th>10</th>\n",
       "      <td>451075313</td>\n",
       "      <td>0.042629</td>\n",
       "      <td>0.012969</td>\n",
       "      <td>0.000634</td>\n",
       "      <td>0.014919</td>\n",
       "      <td>0.001057</td>\n",
       "      <td>0.007376</td>\n",
       "    </tr>\n",
       "  </tbody>\n",
       "</table>\n",
       "</div>"
      ],
      "text/plain": [
       "     owner_id  no_emotion       joy   sadness  surprise      fear     anger\n",
       "0    89644563    0.030014  0.068093  0.020134  0.021619  0.011241  0.052356\n",
       "1    90015688    0.050604  0.070144  0.034560  0.094034  0.012539  0.034427\n",
       "2   157938870    0.574068  0.303918  0.004185  0.033610  0.011059  0.160649\n",
       "3   157971403    0.180897  0.015992  0.023384  0.094342  0.025262  0.068464\n",
       "4   173920498    0.391641  0.161572  0.052305  0.036861  0.013360  0.031061\n",
       "5   204738925    0.242719  0.242040  0.091838  0.024137  0.019925  0.015613\n",
       "6   212598813    0.169518  0.161991  0.012731  0.055914  0.029641  0.059835\n",
       "7   213930403    0.025473  0.810044  0.013615  0.072344  0.011205  0.017987\n",
       "8   295508700    0.093885  0.090711  0.004000  0.052107  0.027095  0.096335\n",
       "9   339819489    0.113289  0.041597  0.002436  0.006952  0.014707  0.028233\n",
       "10  451075313    0.042629  0.012969  0.000634  0.014919  0.001057  0.007376"
      ]
     },
     "execution_count": 15,
     "metadata": {},
     "output_type": "execute_result"
    }
   ],
   "source": [
    "user_emotions = posts[['owner_id', *[label for label in labels]]].groupby('owner_id').mean().reset_index()\n",
    "\n",
    "user_emotions"
   ]
  },
  {
   "cell_type": "code",
   "execution_count": 142,
   "metadata": {},
   "outputs": [
    {
     "data": {
      "text/html": [
       "<div>\n",
       "<style scoped>\n",
       "    .dataframe tbody tr th:only-of-type {\n",
       "        vertical-align: middle;\n",
       "    }\n",
       "\n",
       "    .dataframe tbody tr th {\n",
       "        vertical-align: top;\n",
       "    }\n",
       "\n",
       "    .dataframe thead th {\n",
       "        text-align: right;\n",
       "    }\n",
       "</style>\n",
       "<table border=\"1\" class=\"dataframe\">\n",
       "  <thead>\n",
       "    <tr style=\"text-align: right;\">\n",
       "      <th></th>\n",
       "      <th>user_id</th>\n",
       "      <th>emotion</th>\n",
       "      <th>value</th>\n",
       "    </tr>\n",
       "  </thead>\n",
       "  <tbody>\n",
       "    <tr>\n",
       "      <th>0</th>\n",
       "      <td>89644563</td>\n",
       "      <td>no_emotion</td>\n",
       "      <td>0.030014</td>\n",
       "    </tr>\n",
       "    <tr>\n",
       "      <th>1</th>\n",
       "      <td>89644563</td>\n",
       "      <td>joy</td>\n",
       "      <td>0.068093</td>\n",
       "    </tr>\n",
       "    <tr>\n",
       "      <th>2</th>\n",
       "      <td>89644563</td>\n",
       "      <td>sadness</td>\n",
       "      <td>0.020134</td>\n",
       "    </tr>\n",
       "    <tr>\n",
       "      <th>3</th>\n",
       "      <td>89644563</td>\n",
       "      <td>surprise</td>\n",
       "      <td>0.021619</td>\n",
       "    </tr>\n",
       "    <tr>\n",
       "      <th>4</th>\n",
       "      <td>89644563</td>\n",
       "      <td>fear</td>\n",
       "      <td>0.011241</td>\n",
       "    </tr>\n",
       "    <tr>\n",
       "      <th>...</th>\n",
       "      <td>...</td>\n",
       "      <td>...</td>\n",
       "      <td>...</td>\n",
       "    </tr>\n",
       "    <tr>\n",
       "      <th>61</th>\n",
       "      <td>451075313</td>\n",
       "      <td>joy</td>\n",
       "      <td>0.012969</td>\n",
       "    </tr>\n",
       "    <tr>\n",
       "      <th>62</th>\n",
       "      <td>451075313</td>\n",
       "      <td>sadness</td>\n",
       "      <td>0.000634</td>\n",
       "    </tr>\n",
       "    <tr>\n",
       "      <th>63</th>\n",
       "      <td>451075313</td>\n",
       "      <td>surprise</td>\n",
       "      <td>0.014919</td>\n",
       "    </tr>\n",
       "    <tr>\n",
       "      <th>64</th>\n",
       "      <td>451075313</td>\n",
       "      <td>fear</td>\n",
       "      <td>0.001057</td>\n",
       "    </tr>\n",
       "    <tr>\n",
       "      <th>65</th>\n",
       "      <td>451075313</td>\n",
       "      <td>anger</td>\n",
       "      <td>0.007376</td>\n",
       "    </tr>\n",
       "  </tbody>\n",
       "</table>\n",
       "<p>66 rows × 3 columns</p>\n",
       "</div>"
      ],
      "text/plain": [
       "      user_id     emotion     value\n",
       "0    89644563  no_emotion  0.030014\n",
       "1    89644563         joy  0.068093\n",
       "2    89644563     sadness  0.020134\n",
       "3    89644563    surprise  0.021619\n",
       "4    89644563        fear  0.011241\n",
       "..        ...         ...       ...\n",
       "61  451075313         joy  0.012969\n",
       "62  451075313     sadness  0.000634\n",
       "63  451075313    surprise  0.014919\n",
       "64  451075313        fear  0.001057\n",
       "65  451075313       anger  0.007376\n",
       "\n",
       "[66 rows x 3 columns]"
      ]
     },
     "execution_count": 142,
     "metadata": {},
     "output_type": "execute_result"
    }
   ],
   "source": [
    "user_emotions_for_rose = []\n",
    "for row in user_emotions.itertuples():\n",
    "    for emotion_name in labels:\n",
    "        user_emotions_for_rose.append((getattr(row, 'owner_id'), emotion_name, getattr(row, emotion_name)))\n",
    "    \n",
    "user_emotions_for_rose = pd.DataFrame(user_emotions_for_rose, columns=['user_id', 'emotion', 'value'])\n",
    "\n",
    "user_emotions_for_rose"
   ]
  },
  {
   "cell_type": "markdown",
   "metadata": {},
   "source": [
    "Теперь построим интерактивную розу эмоций для пользователей.\n",
    "\n",
    "Так как значение вероятности для каждой эмоции в среднем получились небольшими, для визуализации были использованы логарифмические шкалы.\n",
    "\n",
    "Если нужно посмотреть для отдельного пользователя, то нажатием мыши по ID пользователя можно отключить отображение остальных."
   ]
  },
  {
   "cell_type": "code",
   "execution_count": 153,
   "metadata": {},
   "outputs": [
    {
     "data": {
      "application/vnd.plotly.v1+json": {
       "config": {
        "plotlyServerURL": "https://plot.ly"
       },
       "data": [
        {
         "hovertemplate": "user_id=89644563<br>value=%{r}<br>emotion=%{theta}<extra></extra>",
         "legendgroup": "89644563",
         "line": {
          "color": "#636efa",
          "dash": "solid"
         },
         "marker": {
          "symbol": "circle"
         },
         "mode": "lines",
         "name": "89644563",
         "r": [
          0.030014052951278593,
          0.06809304946532044,
          0.020133896086078424,
          0.021618841072687738,
          0.011240596381517557,
          0.05235637695743488
         ],
         "showlegend": true,
         "subplot": "polar",
         "theta": [
          "no_emotion",
          "joy",
          "sadness",
          "surprise",
          "fear",
          "anger"
         ],
         "type": "scatterpolar"
        },
        {
         "hovertemplate": "user_id=90015688<br>value=%{r}<br>emotion=%{theta}<extra></extra>",
         "legendgroup": "90015688",
         "line": {
          "color": "#EF553B",
          "dash": "solid"
         },
         "marker": {
          "symbol": "circle"
         },
         "mode": "lines",
         "name": "90015688",
         "r": [
          0.05060356668477096,
          0.07014440363732301,
          0.03455960843724371,
          0.09403410070145479,
          0.012539101664354152,
          0.03442747271025381
         ],
         "showlegend": true,
         "subplot": "polar",
         "theta": [
          "no_emotion",
          "joy",
          "sadness",
          "surprise",
          "fear",
          "anger"
         ],
         "type": "scatterpolar"
        },
        {
         "hovertemplate": "user_id=157938870<br>value=%{r}<br>emotion=%{theta}<extra></extra>",
         "legendgroup": "157938870",
         "line": {
          "color": "#00cc96",
          "dash": "solid"
         },
         "marker": {
          "symbol": "circle"
         },
         "mode": "lines",
         "name": "157938870",
         "r": [
          0.5740679074078798,
          0.3039184424893132,
          0.004184613336942026,
          0.033609698326992135,
          0.011058556780751263,
          0.1606492272445134
         ],
         "showlegend": true,
         "subplot": "polar",
         "theta": [
          "no_emotion",
          "joy",
          "sadness",
          "surprise",
          "fear",
          "anger"
         ],
         "type": "scatterpolar"
        },
        {
         "hovertemplate": "user_id=157971403<br>value=%{r}<br>emotion=%{theta}<extra></extra>",
         "legendgroup": "157971403",
         "line": {
          "color": "#ab63fa",
          "dash": "solid"
         },
         "marker": {
          "symbol": "circle"
         },
         "mode": "lines",
         "name": "157971403",
         "r": [
          0.18089747399790213,
          0.015992480723070912,
          0.02338355017855065,
          0.0943420909170527,
          0.025261630973545834,
          0.06846414358005859
         ],
         "showlegend": true,
         "subplot": "polar",
         "theta": [
          "no_emotion",
          "joy",
          "sadness",
          "surprise",
          "fear",
          "anger"
         ],
         "type": "scatterpolar"
        },
        {
         "hovertemplate": "user_id=173920498<br>value=%{r}<br>emotion=%{theta}<extra></extra>",
         "legendgroup": "173920498",
         "line": {
          "color": "#FFA15A",
          "dash": "solid"
         },
         "marker": {
          "symbol": "circle"
         },
         "mode": "lines",
         "name": "173920498",
         "r": [
          0.39164122129264084,
          0.16157186910024154,
          0.05230484695335769,
          0.03686092042809595,
          0.013359847772137626,
          0.031060767926923607
         ],
         "showlegend": true,
         "subplot": "polar",
         "theta": [
          "no_emotion",
          "joy",
          "sadness",
          "surprise",
          "fear",
          "anger"
         ],
         "type": "scatterpolar"
        },
        {
         "hovertemplate": "user_id=204738925<br>value=%{r}<br>emotion=%{theta}<extra></extra>",
         "legendgroup": "204738925",
         "line": {
          "color": "#19d3f3",
          "dash": "solid"
         },
         "marker": {
          "symbol": "circle"
         },
         "mode": "lines",
         "name": "204738925",
         "r": [
          0.24271866104876003,
          0.24203997871114147,
          0.09183840099204746,
          0.024137459410768416,
          0.01992548867646191,
          0.01561274855501122
         ],
         "showlegend": true,
         "subplot": "polar",
         "theta": [
          "no_emotion",
          "joy",
          "sadness",
          "surprise",
          "fear",
          "anger"
         ],
         "type": "scatterpolar"
        },
        {
         "hovertemplate": "user_id=212598813<br>value=%{r}<br>emotion=%{theta}<extra></extra>",
         "legendgroup": "212598813",
         "line": {
          "color": "#FF6692",
          "dash": "solid"
         },
         "marker": {
          "symbol": "circle"
         },
         "mode": "lines",
         "name": "212598813",
         "r": [
          0.1695177740441611,
          0.16199089968637503,
          0.012731399976757245,
          0.055913679555735805,
          0.029641143342649393,
          0.0598352199553379
         ],
         "showlegend": true,
         "subplot": "polar",
         "theta": [
          "no_emotion",
          "joy",
          "sadness",
          "surprise",
          "fear",
          "anger"
         ],
         "type": "scatterpolar"
        },
        {
         "hovertemplate": "user_id=213930403<br>value=%{r}<br>emotion=%{theta}<extra></extra>",
         "legendgroup": "213930403",
         "line": {
          "color": "#B6E880",
          "dash": "solid"
         },
         "marker": {
          "symbol": "circle"
         },
         "mode": "lines",
         "name": "213930403",
         "r": [
          0.025473228984457606,
          0.8100437673959223,
          0.013614538509179564,
          0.07234363970072831,
          0.011205116862102467,
          0.017986705307574832
         ],
         "showlegend": true,
         "subplot": "polar",
         "theta": [
          "no_emotion",
          "joy",
          "sadness",
          "surprise",
          "fear",
          "anger"
         ],
         "type": "scatterpolar"
        },
        {
         "hovertemplate": "user_id=295508700<br>value=%{r}<br>emotion=%{theta}<extra></extra>",
         "legendgroup": "295508700",
         "line": {
          "color": "#FF97FF",
          "dash": "solid"
         },
         "marker": {
          "symbol": "circle"
         },
         "mode": "lines",
         "name": "295508700",
         "r": [
          0.0938845641518894,
          0.09071084290840908,
          0.00400039194592912,
          0.05210697030844657,
          0.027095250491248935,
          0.09633521201383126
         ],
         "showlegend": true,
         "subplot": "polar",
         "theta": [
          "no_emotion",
          "joy",
          "sadness",
          "surprise",
          "fear",
          "anger"
         ],
         "type": "scatterpolar"
        },
        {
         "hovertemplate": "user_id=339819489<br>value=%{r}<br>emotion=%{theta}<extra></extra>",
         "legendgroup": "339819489",
         "line": {
          "color": "#FECB52",
          "dash": "solid"
         },
         "marker": {
          "symbol": "circle"
         },
         "mode": "lines",
         "name": "339819489",
         "r": [
          0.11328901337588777,
          0.0415974567888655,
          0.002436379500950622,
          0.006952076675462546,
          0.014707488521915113,
          0.02823329216219706
         ],
         "showlegend": true,
         "subplot": "polar",
         "theta": [
          "no_emotion",
          "joy",
          "sadness",
          "surprise",
          "fear",
          "anger"
         ],
         "type": "scatterpolar"
        },
        {
         "hovertemplate": "user_id=451075313<br>value=%{r}<br>emotion=%{theta}<extra></extra>",
         "legendgroup": "451075313",
         "line": {
          "color": "#636efa",
          "dash": "solid"
         },
         "marker": {
          "symbol": "circle"
         },
         "mode": "lines",
         "name": "451075313",
         "r": [
          0.04262876345847662,
          0.01296928405869179,
          0.0006336933763052982,
          0.014918519327273736,
          0.0010570485297089012,
          0.007375976688658388
         ],
         "showlegend": true,
         "subplot": "polar",
         "theta": [
          "no_emotion",
          "joy",
          "sadness",
          "surprise",
          "fear",
          "anger"
         ],
         "type": "scatterpolar"
        }
       ],
       "layout": {
        "height": 800,
        "legend": {
         "title": {
          "text": "user_id"
         },
         "tracegroupgap": 0
        },
        "polar": {
         "angularaxis": {
          "direction": "clockwise",
          "rotation": 90
         },
         "domain": {
          "x": [
           0,
           1
          ],
          "y": [
           0,
           1
          ]
         },
         "radialaxis": {
          "type": "log"
         }
        },
        "template": {
         "data": {
          "bar": [
           {
            "error_x": {
             "color": "#f2f5fa"
            },
            "error_y": {
             "color": "#f2f5fa"
            },
            "marker": {
             "line": {
              "color": "rgb(17,17,17)",
              "width": 0.5
             },
             "pattern": {
              "fillmode": "overlay",
              "size": 10,
              "solidity": 0.2
             }
            },
            "type": "bar"
           }
          ],
          "barpolar": [
           {
            "marker": {
             "line": {
              "color": "rgb(17,17,17)",
              "width": 0.5
             },
             "pattern": {
              "fillmode": "overlay",
              "size": 10,
              "solidity": 0.2
             }
            },
            "type": "barpolar"
           }
          ],
          "carpet": [
           {
            "aaxis": {
             "endlinecolor": "#A2B1C6",
             "gridcolor": "#506784",
             "linecolor": "#506784",
             "minorgridcolor": "#506784",
             "startlinecolor": "#A2B1C6"
            },
            "baxis": {
             "endlinecolor": "#A2B1C6",
             "gridcolor": "#506784",
             "linecolor": "#506784",
             "minorgridcolor": "#506784",
             "startlinecolor": "#A2B1C6"
            },
            "type": "carpet"
           }
          ],
          "choropleth": [
           {
            "colorbar": {
             "outlinewidth": 0,
             "ticks": ""
            },
            "type": "choropleth"
           }
          ],
          "contour": [
           {
            "colorbar": {
             "outlinewidth": 0,
             "ticks": ""
            },
            "colorscale": [
             [
              0,
              "#0d0887"
             ],
             [
              0.1111111111111111,
              "#46039f"
             ],
             [
              0.2222222222222222,
              "#7201a8"
             ],
             [
              0.3333333333333333,
              "#9c179e"
             ],
             [
              0.4444444444444444,
              "#bd3786"
             ],
             [
              0.5555555555555556,
              "#d8576b"
             ],
             [
              0.6666666666666666,
              "#ed7953"
             ],
             [
              0.7777777777777778,
              "#fb9f3a"
             ],
             [
              0.8888888888888888,
              "#fdca26"
             ],
             [
              1,
              "#f0f921"
             ]
            ],
            "type": "contour"
           }
          ],
          "contourcarpet": [
           {
            "colorbar": {
             "outlinewidth": 0,
             "ticks": ""
            },
            "type": "contourcarpet"
           }
          ],
          "heatmap": [
           {
            "colorbar": {
             "outlinewidth": 0,
             "ticks": ""
            },
            "colorscale": [
             [
              0,
              "#0d0887"
             ],
             [
              0.1111111111111111,
              "#46039f"
             ],
             [
              0.2222222222222222,
              "#7201a8"
             ],
             [
              0.3333333333333333,
              "#9c179e"
             ],
             [
              0.4444444444444444,
              "#bd3786"
             ],
             [
              0.5555555555555556,
              "#d8576b"
             ],
             [
              0.6666666666666666,
              "#ed7953"
             ],
             [
              0.7777777777777778,
              "#fb9f3a"
             ],
             [
              0.8888888888888888,
              "#fdca26"
             ],
             [
              1,
              "#f0f921"
             ]
            ],
            "type": "heatmap"
           }
          ],
          "heatmapgl": [
           {
            "colorbar": {
             "outlinewidth": 0,
             "ticks": ""
            },
            "colorscale": [
             [
              0,
              "#0d0887"
             ],
             [
              0.1111111111111111,
              "#46039f"
             ],
             [
              0.2222222222222222,
              "#7201a8"
             ],
             [
              0.3333333333333333,
              "#9c179e"
             ],
             [
              0.4444444444444444,
              "#bd3786"
             ],
             [
              0.5555555555555556,
              "#d8576b"
             ],
             [
              0.6666666666666666,
              "#ed7953"
             ],
             [
              0.7777777777777778,
              "#fb9f3a"
             ],
             [
              0.8888888888888888,
              "#fdca26"
             ],
             [
              1,
              "#f0f921"
             ]
            ],
            "type": "heatmapgl"
           }
          ],
          "histogram": [
           {
            "marker": {
             "pattern": {
              "fillmode": "overlay",
              "size": 10,
              "solidity": 0.2
             }
            },
            "type": "histogram"
           }
          ],
          "histogram2d": [
           {
            "colorbar": {
             "outlinewidth": 0,
             "ticks": ""
            },
            "colorscale": [
             [
              0,
              "#0d0887"
             ],
             [
              0.1111111111111111,
              "#46039f"
             ],
             [
              0.2222222222222222,
              "#7201a8"
             ],
             [
              0.3333333333333333,
              "#9c179e"
             ],
             [
              0.4444444444444444,
              "#bd3786"
             ],
             [
              0.5555555555555556,
              "#d8576b"
             ],
             [
              0.6666666666666666,
              "#ed7953"
             ],
             [
              0.7777777777777778,
              "#fb9f3a"
             ],
             [
              0.8888888888888888,
              "#fdca26"
             ],
             [
              1,
              "#f0f921"
             ]
            ],
            "type": "histogram2d"
           }
          ],
          "histogram2dcontour": [
           {
            "colorbar": {
             "outlinewidth": 0,
             "ticks": ""
            },
            "colorscale": [
             [
              0,
              "#0d0887"
             ],
             [
              0.1111111111111111,
              "#46039f"
             ],
             [
              0.2222222222222222,
              "#7201a8"
             ],
             [
              0.3333333333333333,
              "#9c179e"
             ],
             [
              0.4444444444444444,
              "#bd3786"
             ],
             [
              0.5555555555555556,
              "#d8576b"
             ],
             [
              0.6666666666666666,
              "#ed7953"
             ],
             [
              0.7777777777777778,
              "#fb9f3a"
             ],
             [
              0.8888888888888888,
              "#fdca26"
             ],
             [
              1,
              "#f0f921"
             ]
            ],
            "type": "histogram2dcontour"
           }
          ],
          "mesh3d": [
           {
            "colorbar": {
             "outlinewidth": 0,
             "ticks": ""
            },
            "type": "mesh3d"
           }
          ],
          "parcoords": [
           {
            "line": {
             "colorbar": {
              "outlinewidth": 0,
              "ticks": ""
             }
            },
            "type": "parcoords"
           }
          ],
          "pie": [
           {
            "automargin": true,
            "type": "pie"
           }
          ],
          "scatter": [
           {
            "marker": {
             "line": {
              "color": "#283442"
             }
            },
            "type": "scatter"
           }
          ],
          "scatter3d": [
           {
            "line": {
             "colorbar": {
              "outlinewidth": 0,
              "ticks": ""
             }
            },
            "marker": {
             "colorbar": {
              "outlinewidth": 0,
              "ticks": ""
             }
            },
            "type": "scatter3d"
           }
          ],
          "scattercarpet": [
           {
            "marker": {
             "colorbar": {
              "outlinewidth": 0,
              "ticks": ""
             }
            },
            "type": "scattercarpet"
           }
          ],
          "scattergeo": [
           {
            "marker": {
             "colorbar": {
              "outlinewidth": 0,
              "ticks": ""
             }
            },
            "type": "scattergeo"
           }
          ],
          "scattergl": [
           {
            "marker": {
             "line": {
              "color": "#283442"
             }
            },
            "type": "scattergl"
           }
          ],
          "scattermapbox": [
           {
            "marker": {
             "colorbar": {
              "outlinewidth": 0,
              "ticks": ""
             }
            },
            "type": "scattermapbox"
           }
          ],
          "scatterpolar": [
           {
            "marker": {
             "colorbar": {
              "outlinewidth": 0,
              "ticks": ""
             }
            },
            "type": "scatterpolar"
           }
          ],
          "scatterpolargl": [
           {
            "marker": {
             "colorbar": {
              "outlinewidth": 0,
              "ticks": ""
             }
            },
            "type": "scatterpolargl"
           }
          ],
          "scatterternary": [
           {
            "marker": {
             "colorbar": {
              "outlinewidth": 0,
              "ticks": ""
             }
            },
            "type": "scatterternary"
           }
          ],
          "surface": [
           {
            "colorbar": {
             "outlinewidth": 0,
             "ticks": ""
            },
            "colorscale": [
             [
              0,
              "#0d0887"
             ],
             [
              0.1111111111111111,
              "#46039f"
             ],
             [
              0.2222222222222222,
              "#7201a8"
             ],
             [
              0.3333333333333333,
              "#9c179e"
             ],
             [
              0.4444444444444444,
              "#bd3786"
             ],
             [
              0.5555555555555556,
              "#d8576b"
             ],
             [
              0.6666666666666666,
              "#ed7953"
             ],
             [
              0.7777777777777778,
              "#fb9f3a"
             ],
             [
              0.8888888888888888,
              "#fdca26"
             ],
             [
              1,
              "#f0f921"
             ]
            ],
            "type": "surface"
           }
          ],
          "table": [
           {
            "cells": {
             "fill": {
              "color": "#506784"
             },
             "line": {
              "color": "rgb(17,17,17)"
             }
            },
            "header": {
             "fill": {
              "color": "#2a3f5f"
             },
             "line": {
              "color": "rgb(17,17,17)"
             }
            },
            "type": "table"
           }
          ]
         },
         "layout": {
          "annotationdefaults": {
           "arrowcolor": "#f2f5fa",
           "arrowhead": 0,
           "arrowwidth": 1
          },
          "autotypenumbers": "strict",
          "coloraxis": {
           "colorbar": {
            "outlinewidth": 0,
            "ticks": ""
           }
          },
          "colorscale": {
           "diverging": [
            [
             0,
             "#8e0152"
            ],
            [
             0.1,
             "#c51b7d"
            ],
            [
             0.2,
             "#de77ae"
            ],
            [
             0.3,
             "#f1b6da"
            ],
            [
             0.4,
             "#fde0ef"
            ],
            [
             0.5,
             "#f7f7f7"
            ],
            [
             0.6,
             "#e6f5d0"
            ],
            [
             0.7,
             "#b8e186"
            ],
            [
             0.8,
             "#7fbc41"
            ],
            [
             0.9,
             "#4d9221"
            ],
            [
             1,
             "#276419"
            ]
           ],
           "sequential": [
            [
             0,
             "#0d0887"
            ],
            [
             0.1111111111111111,
             "#46039f"
            ],
            [
             0.2222222222222222,
             "#7201a8"
            ],
            [
             0.3333333333333333,
             "#9c179e"
            ],
            [
             0.4444444444444444,
             "#bd3786"
            ],
            [
             0.5555555555555556,
             "#d8576b"
            ],
            [
             0.6666666666666666,
             "#ed7953"
            ],
            [
             0.7777777777777778,
             "#fb9f3a"
            ],
            [
             0.8888888888888888,
             "#fdca26"
            ],
            [
             1,
             "#f0f921"
            ]
           ],
           "sequentialminus": [
            [
             0,
             "#0d0887"
            ],
            [
             0.1111111111111111,
             "#46039f"
            ],
            [
             0.2222222222222222,
             "#7201a8"
            ],
            [
             0.3333333333333333,
             "#9c179e"
            ],
            [
             0.4444444444444444,
             "#bd3786"
            ],
            [
             0.5555555555555556,
             "#d8576b"
            ],
            [
             0.6666666666666666,
             "#ed7953"
            ],
            [
             0.7777777777777778,
             "#fb9f3a"
            ],
            [
             0.8888888888888888,
             "#fdca26"
            ],
            [
             1,
             "#f0f921"
            ]
           ]
          },
          "colorway": [
           "#636efa",
           "#EF553B",
           "#00cc96",
           "#ab63fa",
           "#FFA15A",
           "#19d3f3",
           "#FF6692",
           "#B6E880",
           "#FF97FF",
           "#FECB52"
          ],
          "font": {
           "color": "#f2f5fa"
          },
          "geo": {
           "bgcolor": "rgb(17,17,17)",
           "lakecolor": "rgb(17,17,17)",
           "landcolor": "rgb(17,17,17)",
           "showlakes": true,
           "showland": true,
           "subunitcolor": "#506784"
          },
          "hoverlabel": {
           "align": "left"
          },
          "hovermode": "closest",
          "mapbox": {
           "style": "dark"
          },
          "paper_bgcolor": "rgb(17,17,17)",
          "plot_bgcolor": "rgb(17,17,17)",
          "polar": {
           "angularaxis": {
            "gridcolor": "#506784",
            "linecolor": "#506784",
            "ticks": ""
           },
           "bgcolor": "rgb(17,17,17)",
           "radialaxis": {
            "gridcolor": "#506784",
            "linecolor": "#506784",
            "ticks": ""
           }
          },
          "scene": {
           "xaxis": {
            "backgroundcolor": "rgb(17,17,17)",
            "gridcolor": "#506784",
            "gridwidth": 2,
            "linecolor": "#506784",
            "showbackground": true,
            "ticks": "",
            "zerolinecolor": "#C8D4E3"
           },
           "yaxis": {
            "backgroundcolor": "rgb(17,17,17)",
            "gridcolor": "#506784",
            "gridwidth": 2,
            "linecolor": "#506784",
            "showbackground": true,
            "ticks": "",
            "zerolinecolor": "#C8D4E3"
           },
           "zaxis": {
            "backgroundcolor": "rgb(17,17,17)",
            "gridcolor": "#506784",
            "gridwidth": 2,
            "linecolor": "#506784",
            "showbackground": true,
            "ticks": "",
            "zerolinecolor": "#C8D4E3"
           }
          },
          "shapedefaults": {
           "line": {
            "color": "#f2f5fa"
           }
          },
          "sliderdefaults": {
           "bgcolor": "#C8D4E3",
           "bordercolor": "rgb(17,17,17)",
           "borderwidth": 1,
           "tickwidth": 0
          },
          "ternary": {
           "aaxis": {
            "gridcolor": "#506784",
            "linecolor": "#506784",
            "ticks": ""
           },
           "baxis": {
            "gridcolor": "#506784",
            "linecolor": "#506784",
            "ticks": ""
           },
           "bgcolor": "rgb(17,17,17)",
           "caxis": {
            "gridcolor": "#506784",
            "linecolor": "#506784",
            "ticks": ""
           }
          },
          "title": {
           "x": 0.05
          },
          "updatemenudefaults": {
           "bgcolor": "#506784",
           "borderwidth": 0
          },
          "xaxis": {
           "automargin": true,
           "gridcolor": "#283442",
           "linecolor": "#506784",
           "ticks": "",
           "title": {
            "standoff": 15
           },
           "zerolinecolor": "#283442",
           "zerolinewidth": 2
          },
          "yaxis": {
           "automargin": true,
           "gridcolor": "#283442",
           "linecolor": "#506784",
           "ticks": "",
           "title": {
            "standoff": 15
           },
           "zerolinecolor": "#283442",
           "zerolinewidth": 2
          }
         }
        },
        "title": {
         "text": "Статические профили пользователей"
        },
        "width": 800
       }
      }
     },
     "metadata": {},
     "output_type": "display_data"
    }
   ],
   "source": [
    "fig = px.line_polar(\n",
    "    user_emotions_for_rose, \n",
    "    r='value', \n",
    "    log_r=True,\n",
    "    theta='emotion', \n",
    "    color='user_id', \n",
    "    title='Статические профили пользователей',\n",
    "    template='plotly_dark',\n",
    "    width=800,\n",
    "    height=800,\n",
    ")\n",
    "\n",
    "fig.show()"
   ]
  },
  {
   "cell_type": "markdown",
   "metadata": {},
   "source": [
    "### Динамические профили пльзователей"
   ]
  },
  {
   "cell_type": "markdown",
   "metadata": {},
   "source": [
    "Посмотрим на психометрические профили пользователей в динамике: по годам."
   ]
  },
  {
   "cell_type": "code",
   "execution_count": 175,
   "metadata": {},
   "outputs": [
    {
     "data": {
      "text/html": [
       "<div>\n",
       "<style scoped>\n",
       "    .dataframe tbody tr th:only-of-type {\n",
       "        vertical-align: middle;\n",
       "    }\n",
       "\n",
       "    .dataframe tbody tr th {\n",
       "        vertical-align: top;\n",
       "    }\n",
       "\n",
       "    .dataframe thead th {\n",
       "        text-align: right;\n",
       "    }\n",
       "</style>\n",
       "<table border=\"1\" class=\"dataframe\">\n",
       "  <thead>\n",
       "    <tr style=\"text-align: right;\">\n",
       "      <th></th>\n",
       "      <th>user_id</th>\n",
       "      <th>year</th>\n",
       "      <th>emotion</th>\n",
       "      <th>value</th>\n",
       "    </tr>\n",
       "  </thead>\n",
       "  <tbody>\n",
       "    <tr>\n",
       "      <th>0</th>\n",
       "      <td>89644563</td>\n",
       "      <td>2016</td>\n",
       "      <td>no_emotion</td>\n",
       "      <td>0.005246</td>\n",
       "    </tr>\n",
       "    <tr>\n",
       "      <th>1</th>\n",
       "      <td>89644563</td>\n",
       "      <td>2016</td>\n",
       "      <td>joy</td>\n",
       "      <td>0.018107</td>\n",
       "    </tr>\n",
       "    <tr>\n",
       "      <th>2</th>\n",
       "      <td>89644563</td>\n",
       "      <td>2016</td>\n",
       "      <td>sadness</td>\n",
       "      <td>0.207682</td>\n",
       "    </tr>\n",
       "    <tr>\n",
       "      <th>3</th>\n",
       "      <td>89644563</td>\n",
       "      <td>2016</td>\n",
       "      <td>surprise</td>\n",
       "      <td>0.096601</td>\n",
       "    </tr>\n",
       "    <tr>\n",
       "      <th>4</th>\n",
       "      <td>89644563</td>\n",
       "      <td>2016</td>\n",
       "      <td>fear</td>\n",
       "      <td>0.030258</td>\n",
       "    </tr>\n",
       "    <tr>\n",
       "      <th>...</th>\n",
       "      <td>...</td>\n",
       "      <td>...</td>\n",
       "      <td>...</td>\n",
       "      <td>...</td>\n",
       "    </tr>\n",
       "    <tr>\n",
       "      <th>355</th>\n",
       "      <td>451075313</td>\n",
       "      <td>2020</td>\n",
       "      <td>joy</td>\n",
       "      <td>0.000000</td>\n",
       "    </tr>\n",
       "    <tr>\n",
       "      <th>356</th>\n",
       "      <td>451075313</td>\n",
       "      <td>2020</td>\n",
       "      <td>sadness</td>\n",
       "      <td>0.000000</td>\n",
       "    </tr>\n",
       "    <tr>\n",
       "      <th>357</th>\n",
       "      <td>451075313</td>\n",
       "      <td>2020</td>\n",
       "      <td>surprise</td>\n",
       "      <td>0.000000</td>\n",
       "    </tr>\n",
       "    <tr>\n",
       "      <th>358</th>\n",
       "      <td>451075313</td>\n",
       "      <td>2020</td>\n",
       "      <td>fear</td>\n",
       "      <td>0.000000</td>\n",
       "    </tr>\n",
       "    <tr>\n",
       "      <th>359</th>\n",
       "      <td>451075313</td>\n",
       "      <td>2020</td>\n",
       "      <td>anger</td>\n",
       "      <td>0.000000</td>\n",
       "    </tr>\n",
       "  </tbody>\n",
       "</table>\n",
       "<p>360 rows × 4 columns</p>\n",
       "</div>"
      ],
      "text/plain": [
       "       user_id  year     emotion     value\n",
       "0     89644563  2016  no_emotion  0.005246\n",
       "1     89644563  2016         joy  0.018107\n",
       "2     89644563  2016     sadness  0.207682\n",
       "3     89644563  2016    surprise  0.096601\n",
       "4     89644563  2016        fear  0.030258\n",
       "..         ...   ...         ...       ...\n",
       "355  451075313  2020         joy  0.000000\n",
       "356  451075313  2020     sadness  0.000000\n",
       "357  451075313  2020    surprise  0.000000\n",
       "358  451075313  2020        fear  0.000000\n",
       "359  451075313  2020       anger  0.000000\n",
       "\n",
       "[360 rows x 4 columns]"
      ]
     },
     "execution_count": 175,
     "metadata": {},
     "output_type": "execute_result"
    }
   ],
   "source": [
    "posts['year'] = posts.dt.dt.year\n",
    "\n",
    "user_emotions_by_year = posts[['owner_id', 'year', *[label for label in labels]]].groupby(['owner_id', 'year']).mean().reset_index()\n",
    "\n",
    "user_emotions_by_year_for_graph = []\n",
    "for row in user_emotions_by_year.itertuples():\n",
    "    for emotion_name in labels:\n",
    "        user_emotions_by_year_for_graph.append((getattr(row, 'owner_id'), getattr(row, 'year'), emotion_name, getattr(row, emotion_name)))\n",
    "    \n",
    "user_emotions_by_year_for_graph = pd.DataFrame(user_emotions_by_year_for_graph, columns=['user_id', 'year', 'emotion', 'value'])\n",
    "\n",
    "user_emotions_by_year_for_graph.sort_values(by='year', inplace=True)\n",
    "\n",
    "user_emotions_by_year_for_graph"
   ]
  },
  {
   "cell_type": "code",
   "execution_count": 210,
   "metadata": {},
   "outputs": [
    {
     "data": {
      "application/vnd.plotly.v1+json": {
       "config": {
        "plotlyServerURL": "https://plot.ly"
       },
       "data": [
        {
         "hovertemplate": "user_id=90015688<br>emotion=no_emotion<br>year=%{x}<br>value=%{y}<extra></extra>",
         "legendgroup": "90015688",
         "line": {
          "color": "#636efa",
          "dash": "solid"
         },
         "marker": {
          "symbol": "circle"
         },
         "mode": "lines+markers",
         "name": "90015688",
         "orientation": "v",
         "showlegend": true,
         "type": "scatter",
         "x": [
          2010,
          2011,
          2012,
          2013,
          2014,
          2015,
          2016,
          2017,
          2018,
          2019,
          2020
         ],
         "xaxis": "x6",
         "y": [
          0.08286573585495352,
          0.2600813839908369,
          0.017592006604428643,
          0.003223908031336544,
          0.00591263020186047,
          0.007938077410740475,
          0,
          0.0005035460460931062,
          0,
          0,
          0
         ],
         "yaxis": "y6"
        },
        {
         "hovertemplate": "user_id=90015688<br>emotion=joy<br>year=%{x}<br>value=%{y}<extra></extra>",
         "legendgroup": "90015688",
         "line": {
          "color": "#636efa",
          "dash": "solid"
         },
         "marker": {
          "symbol": "circle"
         },
         "mode": "lines+markers",
         "name": "90015688",
         "orientation": "v",
         "showlegend": false,
         "type": "scatter",
         "x": [
          2010,
          2011,
          2012,
          2013,
          2014,
          2015,
          2016,
          2017,
          2018,
          2019,
          2020
         ],
         "xaxis": "x5",
         "y": [
          0.20892599829472602,
          0.21546740061876335,
          0.01097543115934564,
          0.006284248425390726,
          0.035867326552184615,
          0.018061573325865596,
          0,
          0.0489108145236969,
          0,
          0,
          0
         ],
         "yaxis": "y5"
        },
        {
         "hovertemplate": "user_id=90015688<br>emotion=sadness<br>year=%{x}<br>value=%{y}<extra></extra>",
         "legendgroup": "90015688",
         "line": {
          "color": "#636efa",
          "dash": "solid"
         },
         "marker": {
          "symbol": "circle"
         },
         "mode": "lines+markers",
         "name": "90015688",
         "orientation": "v",
         "showlegend": false,
         "type": "scatter",
         "x": [
          2010,
          2011,
          2012,
          2013,
          2014,
          2015,
          2016,
          2017,
          2018,
          2019,
          2020
         ],
         "xaxis": "x4",
         "y": [
          0.25013035797467453,
          0.0098835454100481,
          0.000099426589584277,
          0.0000752965082280101,
          0.0007526860500122121,
          0.0002724297584695044,
          0,
          0.0007017067633569241,
          0,
          0,
          0
         ],
         "yaxis": "y4"
        },
        {
         "hovertemplate": "user_id=90015688<br>emotion=surprise<br>year=%{x}<br>value=%{y}<extra></extra>",
         "legendgroup": "90015688",
         "line": {
          "color": "#636efa",
          "dash": "solid"
         },
         "marker": {
          "symbol": "circle"
         },
         "mode": "lines+markers",
         "name": "90015688",
         "orientation": "v",
         "showlegend": false,
         "type": "scatter",
         "x": [
          2010,
          2011,
          2012,
          2013,
          2014,
          2015,
          2016,
          2017,
          2018,
          2019,
          2020
         ],
         "xaxis": "x3",
         "y": [
          0.3954237377401441,
          0.30321480043494375,
          0.0020649830011627924,
          0.0016990877086783972,
          0.0014559827360867662,
          0.00048152055378002215,
          0,
          0.0007162042427808046,
          0,
          0,
          0
         ],
         "yaxis": "y3"
        },
        {
         "hovertemplate": "user_id=90015688<br>emotion=fear<br>year=%{x}<br>value=%{y}<extra></extra>",
         "legendgroup": "90015688",
         "line": {
          "color": "#636efa",
          "dash": "solid"
         },
         "marker": {
          "symbol": "circle"
         },
         "mode": "lines+markers",
         "name": "90015688",
         "orientation": "v",
         "showlegend": false,
         "type": "scatter",
         "x": [
          2010,
          2011,
          2012,
          2013,
          2014,
          2015,
          2016,
          2017,
          2018,
          2019,
          2020
         ],
         "xaxis": "x2",
         "y": [
          0.035474309591110795,
          0.056781213170779665,
          0.0002740107873385703,
          0.00017005452216764535,
          0.0004630556196891217,
          0.0001710168945516915,
          0,
          0.00039839097298681735,
          0,
          0,
          0
         ],
         "yaxis": "y2"
        },
        {
         "hovertemplate": "user_id=90015688<br>emotion=anger<br>year=%{x}<br>value=%{y}<extra></extra>",
         "legendgroup": "90015688",
         "line": {
          "color": "#636efa",
          "dash": "solid"
         },
         "marker": {
          "symbol": "circle"
         },
         "mode": "lines+markers",
         "name": "90015688",
         "orientation": "v",
         "showlegend": false,
         "type": "scatter",
         "x": [
          2010,
          2011,
          2012,
          2013,
          2014,
          2015,
          2016,
          2017,
          2018,
          2019,
          2020
         ],
         "xaxis": "x",
         "y": [
          0.1093330437289551,
          0.14472432258935441,
          0.001394220587602,
          0.00012815017754116384,
          0.0011754963741102927,
          0.0002889851731810276,
          0,
          0.0008887543343007564,
          0,
          0,
          0
         ],
         "yaxis": "y"
        },
        {
         "hovertemplate": "user_id=213930403<br>emotion=no_emotion<br>year=%{x}<br>value=%{y}<extra></extra>",
         "legendgroup": "213930403",
         "line": {
          "color": "#EF553B",
          "dash": "solid"
         },
         "marker": {
          "symbol": "circle"
         },
         "mode": "lines+markers",
         "name": "213930403",
         "orientation": "v",
         "showlegend": true,
         "type": "scatter",
         "x": [
          2013,
          2014,
          2015,
          2016,
          2017,
          2018
         ],
         "xaxis": "x6",
         "y": [
          0.010340530425310135,
          0,
          0.018876361793705394,
          0.017235936410725117,
          0.013583357445895672,
          0.09540339512750506
         ],
         "yaxis": "y6"
        },
        {
         "hovertemplate": "user_id=213930403<br>emotion=joy<br>year=%{x}<br>value=%{y}<extra></extra>",
         "legendgroup": "213930403",
         "line": {
          "color": "#EF553B",
          "dash": "solid"
         },
         "marker": {
          "symbol": "circle"
         },
         "mode": "lines+markers",
         "name": "213930403",
         "orientation": "v",
         "showlegend": false,
         "type": "scatter",
         "x": [
          2013,
          2014,
          2015,
          2016,
          2017,
          2018
         ],
         "xaxis": "x5",
         "y": [
          0.9820259809494019,
          0,
          0.8456653723759311,
          0.9791209101676941,
          0.9836845397949219,
          0.4948856837581843
         ],
         "yaxis": "y5"
        },
        {
         "hovertemplate": "user_id=213930403<br>emotion=sadness<br>year=%{x}<br>value=%{y}<extra></extra>",
         "legendgroup": "213930403",
         "line": {
          "color": "#EF553B",
          "dash": "solid"
         },
         "marker": {
          "symbol": "circle"
         },
         "mode": "lines+markers",
         "name": "213930403",
         "orientation": "v",
         "showlegend": false,
         "type": "scatter",
         "x": [
          2013,
          2014,
          2015,
          2016,
          2017,
          2018
         ],
         "xaxis": "x4",
         "y": [
          0.012055148370563984,
          0,
          0.017935573189918484,
          0.012811329308897257,
          0.014293222688138485,
          0.007746562361717224
         ],
         "yaxis": "y4"
        },
        {
         "hovertemplate": "user_id=213930403<br>emotion=surprise<br>year=%{x}<br>value=%{y}<extra></extra>",
         "legendgroup": "213930403",
         "line": {
          "color": "#EF553B",
          "dash": "solid"
         },
         "marker": {
          "symbol": "circle"
         },
         "mode": "lines+markers",
         "name": "213930403",
         "orientation": "v",
         "showlegend": false,
         "type": "scatter",
         "x": [
          2013,
          2014,
          2015,
          2016,
          2017,
          2018
         ],
         "xaxis": "x3",
         "y": [
          0.014110229909420013,
          0,
          0.14505195551152741,
          0.011928028240799905,
          0.01038697175681591,
          0.06517042173072696
         ],
         "yaxis": "y3"
        },
        {
         "hovertemplate": "user_id=213930403<br>emotion=fear<br>year=%{x}<br>value=%{y}<extra></extra>",
         "legendgroup": "213930403",
         "line": {
          "color": "#EF553B",
          "dash": "solid"
         },
         "marker": {
          "symbol": "circle"
         },
         "mode": "lines+markers",
         "name": "213930403",
         "orientation": "v",
         "showlegend": false,
         "type": "scatter",
         "x": [
          2013,
          2014,
          2015,
          2016,
          2017,
          2018
         ],
         "xaxis": "x2",
         "y": [
          0.015587889589369297,
          0,
          0.01055342105350324,
          0.008083360549062491,
          0.00912434421479702,
          0.025742001365870237
         ],
         "yaxis": "y2"
        },
        {
         "hovertemplate": "user_id=213930403<br>emotion=anger<br>year=%{x}<br>value=%{y}<extra></extra>",
         "legendgroup": "213930403",
         "line": {
          "color": "#EF553B",
          "dash": "solid"
         },
         "marker": {
          "symbol": "circle"
         },
         "mode": "lines+markers",
         "name": "213930403",
         "orientation": "v",
         "showlegend": false,
         "type": "scatter",
         "x": [
          2013,
          2014,
          2015,
          2016,
          2017,
          2018
         ],
         "xaxis": "x",
         "y": [
          0.01723085530102253,
          0,
          0.018914551873292242,
          0.011991663835942745,
          0.013866189867258072,
          0.04115838138386607
         ],
         "yaxis": "y"
        },
        {
         "hovertemplate": "user_id=204738925<br>emotion=no_emotion<br>year=%{x}<br>value=%{y}<extra></extra>",
         "legendgroup": "204738925",
         "line": {
          "color": "#00cc96",
          "dash": "solid"
         },
         "marker": {
          "symbol": "circle"
         },
         "mode": "lines+markers",
         "name": "204738925",
         "orientation": "v",
         "showlegend": true,
         "type": "scatter",
         "x": [
          2013,
          2015,
          2018,
          2019,
          2020,
          2021,
          2022
         ],
         "xaxis": "x6",
         "y": [
          0.011923815123736858,
          0.012161306105554104,
          0.0016545127145946026,
          0.15627643465995789,
          0.9073385000228882,
          0.9355279207229614,
          0.15627643465995789
         ],
         "yaxis": "y6"
        },
        {
         "hovertemplate": "user_id=204738925<br>emotion=joy<br>year=%{x}<br>value=%{y}<extra></extra>",
         "legendgroup": "204738925",
         "line": {
          "color": "#00cc96",
          "dash": "solid"
         },
         "marker": {
          "symbol": "circle"
         },
         "mode": "lines+markers",
         "name": "204738925",
         "orientation": "v",
         "showlegend": false,
         "type": "scatter",
         "x": [
          2013,
          2015,
          2018,
          2019,
          2020,
          2021,
          2022
         ],
         "xaxis": "x5",
         "y": [
          0.9841430187225342,
          0.9841001033782959,
          0.018379988769690197,
          0.005327616818249226,
          0.08135443180799484,
          0.06296705454587936,
          0.005327616818249226
         ],
         "yaxis": "y5"
        },
        {
         "hovertemplate": "user_id=204738925<br>emotion=sadness<br>year=%{x}<br>value=%{y}<extra></extra>",
         "legendgroup": "204738925",
         "line": {
          "color": "#00cc96",
          "dash": "solid"
         },
         "marker": {
          "symbol": "circle"
         },
         "mode": "lines+markers",
         "name": "204738925",
         "orientation": "v",
         "showlegend": false,
         "type": "scatter",
         "x": [
          2013,
          2015,
          2018,
          2019,
          2020,
          2021,
          2022
         ],
         "xaxis": "x4",
         "y": [
          0.012124286964535713,
          0.01686915010213852,
          0.2606124480565389,
          0.004044597037136555,
          0.00515943206846714,
          0.002466201549395919,
          0.004044597037136555
         ],
         "yaxis": "y4"
        },
        {
         "hovertemplate": "user_id=204738925<br>emotion=surprise<br>year=%{x}<br>value=%{y}<extra></extra>",
         "legendgroup": "204738925",
         "line": {
          "color": "#00cc96",
          "dash": "solid"
         },
         "marker": {
          "symbol": "circle"
         },
         "mode": "lines+markers",
         "name": "204738925",
         "orientation": "v",
         "showlegend": false,
         "type": "scatter",
         "x": [
          2013,
          2015,
          2018,
          2019,
          2020,
          2021,
          2022
         ],
         "xaxis": "x3",
         "y": [
          0.012706671841442585,
          0.01220436580479145,
          0.0026508355513215065,
          0.08696328848600388,
          0.002999955555424094,
          0.007447057869285345,
          0.08696328848600388
         ],
         "yaxis": "y3"
        },
        {
         "hovertemplate": "user_id=204738925<br>emotion=fear<br>year=%{x}<br>value=%{y}<extra></extra>",
         "legendgroup": "204738925",
         "line": {
          "color": "#00cc96",
          "dash": "solid"
         },
         "marker": {
          "symbol": "circle"
         },
         "mode": "lines+markers",
         "name": "204738925",
         "orientation": "v",
         "showlegend": false,
         "type": "scatter",
         "x": [
          2013,
          2015,
          2018,
          2019,
          2020,
          2021,
          2022
         ],
         "xaxis": "x2",
         "y": [
          0.010360701940953732,
          0.00859378557652235,
          0.02367317924896876,
          0.04035201296210289,
          0.005065947771072388,
          0.003585399128496647,
          0.04035201296210289
         ],
         "yaxis": "y2"
        },
        {
         "hovertemplate": "user_id=204738925<br>emotion=anger<br>year=%{x}<br>value=%{y}<extra></extra>",
         "legendgroup": "204738925",
         "line": {
          "color": "#00cc96",
          "dash": "solid"
         },
         "marker": {
          "symbol": "circle"
         },
         "mode": "lines+markers",
         "name": "204738925",
         "orientation": "v",
         "showlegend": false,
         "type": "scatter",
         "x": [
          2013,
          2015,
          2018,
          2019,
          2020,
          2021,
          2022
         ],
         "xaxis": "x",
         "y": [
          0.012086628004908562,
          0.012516781687736511,
          0.003095353953540325,
          0.04863165691494942,
          0.003629966638982296,
          0.005731984972953796,
          0.04863165691494942
         ],
         "yaxis": "y"
        },
        {
         "hovertemplate": "user_id=295508700<br>emotion=no_emotion<br>year=%{x}<br>value=%{y}<extra></extra>",
         "legendgroup": "295508700",
         "line": {
          "color": "#ab63fa",
          "dash": "solid"
         },
         "marker": {
          "symbol": "circle"
         },
         "mode": "lines+markers",
         "name": "295508700",
         "orientation": "v",
         "showlegend": true,
         "type": "scatter",
         "x": [
          2016,
          2017,
          2018,
          2019
         ],
         "xaxis": "x6",
         "y": [
          0.06755907088518143,
          0.16536526302141802,
          0.07120271883904934,
          0
         ],
         "yaxis": "y6"
        },
        {
         "hovertemplate": "user_id=295508700<br>emotion=joy<br>year=%{x}<br>value=%{y}<extra></extra>",
         "legendgroup": "295508700",
         "line": {
          "color": "#ab63fa",
          "dash": "solid"
         },
         "marker": {
          "symbol": "circle"
         },
         "mode": "lines+markers",
         "name": "295508700",
         "orientation": "v",
         "showlegend": false,
         "type": "scatter",
         "x": [
          2016,
          2017,
          2018,
          2019
         ],
         "xaxis": "x5",
         "y": [
          0.0030942189041525126,
          0.025866631751081774,
          0.30601254347711804,
          0
         ],
         "yaxis": "y5"
        },
        {
         "hovertemplate": "user_id=295508700<br>emotion=sadness<br>year=%{x}<br>value=%{y}<extra></extra>",
         "legendgroup": "295508700",
         "line": {
          "color": "#ab63fa",
          "dash": "solid"
         },
         "marker": {
          "symbol": "circle"
         },
         "mode": "lines+markers",
         "name": "295508700",
         "orientation": "v",
         "showlegend": false,
         "type": "scatter",
         "x": [
          2016,
          2017,
          2018,
          2019
         ],
         "xaxis": "x4",
         "y": [
          0.0005173857789486647,
          0.0018284567631781101,
          0.012227741302922368,
          0
         ],
         "yaxis": "y4"
        },
        {
         "hovertemplate": "user_id=295508700<br>emotion=surprise<br>year=%{x}<br>value=%{y}<extra></extra>",
         "legendgroup": "295508700",
         "line": {
          "color": "#ab63fa",
          "dash": "solid"
         },
         "marker": {
          "symbol": "circle"
         },
         "mode": "lines+markers",
         "name": "295508700",
         "orientation": "v",
         "showlegend": false,
         "type": "scatter",
         "x": [
          2016,
          2017,
          2018,
          2019
         ],
         "xaxis": "x3",
         "y": [
          0.06252183765172958,
          0.0196985689524029,
          0.12041102051734924,
          0
         ],
         "yaxis": "y3"
        },
        {
         "hovertemplate": "user_id=295508700<br>emotion=fear<br>year=%{x}<br>value=%{y}<extra></extra>",
         "legendgroup": "295508700",
         "line": {
          "color": "#ab63fa",
          "dash": "solid"
         },
         "marker": {
          "symbol": "circle"
         },
         "mode": "lines+markers",
         "name": "295508700",
         "orientation": "v",
         "showlegend": false,
         "type": "scatter",
         "x": [
          2016,
          2017,
          2018,
          2019
         ],
         "xaxis": "x2",
         "y": [
          0.05605793371796608,
          0.02426602199141468,
          0.02414317410439253,
          0
         ],
         "yaxis": "y2"
        },
        {
         "hovertemplate": "user_id=295508700<br>emotion=anger<br>year=%{x}<br>value=%{y}<extra></extra>",
         "legendgroup": "295508700",
         "line": {
          "color": "#ab63fa",
          "dash": "solid"
         },
         "marker": {
          "symbol": "circle"
         },
         "mode": "lines+markers",
         "name": "295508700",
         "orientation": "v",
         "showlegend": false,
         "type": "scatter",
         "x": [
          2016,
          2017,
          2018,
          2019
         ],
         "xaxis": "x",
         "y": [
          0.01096897479146719,
          0.025691873660045012,
          0.321330002695322,
          0
         ],
         "yaxis": "y"
        },
        {
         "hovertemplate": "user_id=339819489<br>emotion=no_emotion<br>year=%{x}<br>value=%{y}<extra></extra>",
         "legendgroup": "339819489",
         "line": {
          "color": "#FFA15A",
          "dash": "solid"
         },
         "marker": {
          "symbol": "circle"
         },
         "mode": "lines+markers",
         "name": "339819489",
         "orientation": "v",
         "showlegend": true,
         "type": "scatter",
         "x": [
          2016,
          2017,
          2018,
          2019
         ],
         "xaxis": "x6",
         "y": [
          0.061559184008966324,
          0.0383975300937891,
          0.10930170173998233,
          0.33939218521118164
         ],
         "yaxis": "y6"
        },
        {
         "hovertemplate": "user_id=339819489<br>emotion=joy<br>year=%{x}<br>value=%{y}<extra></extra>",
         "legendgroup": "339819489",
         "line": {
          "color": "#FFA15A",
          "dash": "solid"
         },
         "marker": {
          "symbol": "circle"
         },
         "mode": "lines+markers",
         "name": "339819489",
         "orientation": "v",
         "showlegend": false,
         "type": "scatter",
         "x": [
          2016,
          2017,
          2018,
          2019
         ],
         "xaxis": "x5",
         "y": [
          0.04985898060967093,
          0.05742678718696184,
          0.0006601686451446127,
          0.06377948611043394
         ],
         "yaxis": "y5"
        },
        {
         "hovertemplate": "user_id=339819489<br>emotion=sadness<br>year=%{x}<br>value=%{y}<extra></extra>",
         "legendgroup": "339819489",
         "line": {
          "color": "#FFA15A",
          "dash": "solid"
         },
         "marker": {
          "symbol": "circle"
         },
         "mode": "lines+markers",
         "name": "339819489",
         "orientation": "v",
         "showlegend": false,
         "type": "scatter",
         "x": [
          2016,
          2017,
          2018,
          2019
         ],
         "xaxis": "x4",
         "y": [
          0.0022500424200425978,
          0.00376001708483433,
          0.0005475000081652844,
          0.003041192519423716
         ],
         "yaxis": "y4"
        },
        {
         "hovertemplate": "user_id=339819489<br>emotion=surprise<br>year=%{x}<br>value=%{y}<extra></extra>",
         "legendgroup": "339819489",
         "line": {
          "color": "#FFA15A",
          "dash": "solid"
         },
         "marker": {
          "symbol": "circle"
         },
         "mode": "lines+markers",
         "name": "339819489",
         "orientation": "v",
         "showlegend": false,
         "type": "scatter",
         "x": [
          2016,
          2017,
          2018,
          2019
         ],
         "xaxis": "x3",
         "y": [
          0.01762913845722442,
          0.006162265343043734,
          0.0006986416669355498,
          0.004018189002047567
         ],
         "yaxis": "y3"
        },
        {
         "hovertemplate": "user_id=339819489<br>emotion=fear<br>year=%{x}<br>value=%{y}<extra></extra>",
         "legendgroup": "339819489",
         "line": {
          "color": "#FFA15A",
          "dash": "solid"
         },
         "marker": {
          "symbol": "circle"
         },
         "mode": "lines+markers",
         "name": "339819489",
         "orientation": "v",
         "showlegend": false,
         "type": "scatter",
         "x": [
          2016,
          2017,
          2018,
          2019
         ],
         "xaxis": "x2",
         "y": [
          0.04817303954421178,
          0.005423417082056403,
          0.0006043546643384077,
          0.01039780438055887
         ],
         "yaxis": "y2"
        },
        {
         "hovertemplate": "user_id=339819489<br>emotion=anger<br>year=%{x}<br>value=%{y}<extra></extra>",
         "legendgroup": "339819489",
         "line": {
          "color": "#FFA15A",
          "dash": "solid"
         },
         "marker": {
          "symbol": "circle"
         },
         "mode": "lines+markers",
         "name": "339819489",
         "orientation": "v",
         "showlegend": false,
         "type": "scatter",
         "x": [
          2016,
          2017,
          2018,
          2019
         ],
         "xaxis": "x",
         "y": [
          0.044419311756349125,
          0.03335087586139493,
          0.000600419507396442,
          0.03998689599992598
         ],
         "yaxis": "y"
        },
        {
         "hovertemplate": "user_id=212598813<br>emotion=no_emotion<br>year=%{x}<br>value=%{y}<extra></extra>",
         "legendgroup": "212598813",
         "line": {
          "color": "#19d3f3",
          "dash": "solid"
         },
         "marker": {
          "symbol": "circle"
         },
         "mode": "lines+markers",
         "name": "212598813",
         "orientation": "v",
         "showlegend": true,
         "type": "scatter",
         "x": [
          2016,
          2017,
          2018,
          2019,
          2020,
          2021,
          2022
         ],
         "xaxis": "x6",
         "y": [
          0.07813821732997894,
          0,
          0.2446685663255101,
          0.021857716627418994,
          0.1313113875221461,
          0.3275069327625845,
          0.42467368034912006
         ],
         "yaxis": "y6"
        },
        {
         "hovertemplate": "user_id=212598813<br>emotion=joy<br>year=%{x}<br>value=%{y}<extra></extra>",
         "legendgroup": "212598813",
         "line": {
          "color": "#19d3f3",
          "dash": "solid"
         },
         "marker": {
          "symbol": "circle"
         },
         "mode": "lines+markers",
         "name": "212598813",
         "orientation": "v",
         "showlegend": false,
         "type": "scatter",
         "x": [
          2016,
          2017,
          2018,
          2019,
          2020,
          2021,
          2022
         ],
         "xaxis": "x5",
         "y": [
          0.002663808409124613,
          0,
          0.09539699461311102,
          0.16962657801806927,
          0.11661562489462085,
          0.265408652435456,
          0.22805273363233677
         ],
         "yaxis": "y5"
        },
        {
         "hovertemplate": "user_id=212598813<br>emotion=sadness<br>year=%{x}<br>value=%{y}<extra></extra>",
         "legendgroup": "212598813",
         "line": {
          "color": "#19d3f3",
          "dash": "solid"
         },
         "marker": {
          "symbol": "circle"
         },
         "mode": "lines+markers",
         "name": "212598813",
         "orientation": "v",
         "showlegend": false,
         "type": "scatter",
         "x": [
          2016,
          2017,
          2018,
          2019,
          2020,
          2021,
          2022
         ],
         "xaxis": "x4",
         "y": [
          0.0020222985185682774,
          0,
          0.011683268430219456,
          0.025800059866160154,
          0.003795884200371802,
          0.007806062997717943,
          0.004676674658964787
         ],
         "yaxis": "y4"
        },
        {
         "hovertemplate": "user_id=212598813<br>emotion=surprise<br>year=%{x}<br>value=%{y}<extra></extra>",
         "legendgroup": "212598813",
         "line": {
          "color": "#19d3f3",
          "dash": "solid"
         },
         "marker": {
          "symbol": "circle"
         },
         "mode": "lines+markers",
         "name": "212598813",
         "orientation": "v",
         "showlegend": false,
         "type": "scatter",
         "x": [
          2016,
          2017,
          2018,
          2019,
          2020,
          2021,
          2022
         ],
         "xaxis": "x3",
         "y": [
          0.04348164424300194,
          0,
          0.019447459161958912,
          0.10802359160035849,
          0.0594130270765163,
          0.02070480159350804,
          0.009057505854538508
         ],
         "yaxis": "y3"
        },
        {
         "hovertemplate": "user_id=212598813<br>emotion=fear<br>year=%{x}<br>value=%{y}<extra></extra>",
         "legendgroup": "212598813",
         "line": {
          "color": "#19d3f3",
          "dash": "solid"
         },
         "marker": {
          "symbol": "circle"
         },
         "mode": "lines+markers",
         "name": "212598813",
         "orientation": "v",
         "showlegend": false,
         "type": "scatter",
         "x": [
          2016,
          2017,
          2018,
          2019,
          2020,
          2021,
          2022
         ],
         "xaxis": "x2",
         "y": [
          0.020176006481051445,
          0,
          0.05484687151725997,
          0.03872226764447987,
          0.009665189107181504,
          0.019048506011521176,
          0.035617376677691936
         ],
         "yaxis": "y2"
        },
        {
         "hovertemplate": "user_id=212598813<br>emotion=anger<br>year=%{x}<br>value=%{y}<extra></extra>",
         "legendgroup": "212598813",
         "line": {
          "color": "#19d3f3",
          "dash": "solid"
         },
         "marker": {
          "symbol": "circle"
         },
         "mode": "lines+markers",
         "name": "212598813",
         "orientation": "v",
         "showlegend": false,
         "type": "scatter",
         "x": [
          2016,
          2017,
          2018,
          2019,
          2020,
          2021,
          2022
         ],
         "xaxis": "x",
         "y": [
          0.02431582845747471,
          0,
          0.04119367038153789,
          0.10070976559072733,
          0.012284733646083623,
          0.08671918052381702,
          0.025311642858598913
         ],
         "yaxis": "y"
        },
        {
         "hovertemplate": "user_id=89644563<br>emotion=no_emotion<br>year=%{x}<br>value=%{y}<extra></extra>",
         "legendgroup": "89644563",
         "line": {
          "color": "#FF6692",
          "dash": "solid"
         },
         "marker": {
          "symbol": "circle"
         },
         "mode": "lines+markers",
         "name": "89644563",
         "orientation": "v",
         "showlegend": true,
         "type": "scatter",
         "x": [
          2016,
          2018,
          2019,
          2020,
          2021,
          2022
         ],
         "xaxis": "x6",
         "y": [
          0.005246264394372702,
          0.010919006541371346,
          0.15627643465995789,
          0,
          0.05443524569272995,
          0
         ],
         "yaxis": "y6"
        },
        {
         "hovertemplate": "user_id=89644563<br>emotion=joy<br>year=%{x}<br>value=%{y}<extra></extra>",
         "legendgroup": "89644563",
         "line": {
          "color": "#FF6692",
          "dash": "solid"
         },
         "marker": {
          "symbol": "circle"
         },
         "mode": "lines+markers",
         "name": "89644563",
         "orientation": "v",
         "showlegend": false,
         "type": "scatter",
         "x": [
          2016,
          2018,
          2019,
          2020,
          2021,
          2022
         ],
         "xaxis": "x5",
         "y": [
          0.018106743693351746,
          0.8591277599334717,
          0.005327616818249226,
          0,
          0.0006618806510232389,
          0
         ],
         "yaxis": "y5"
        },
        {
         "hovertemplate": "user_id=89644563<br>emotion=sadness<br>year=%{x}<br>value=%{y}<extra></extra>",
         "legendgroup": "89644563",
         "line": {
          "color": "#FF6692",
          "dash": "solid"
         },
         "marker": {
          "symbol": "circle"
         },
         "mode": "lines+markers",
         "name": "89644563",
         "orientation": "v",
         "showlegend": false,
         "type": "scatter",
         "x": [
          2016,
          2018,
          2019,
          2020,
          2021,
          2022
         ],
         "xaxis": "x4",
         "y": [
          0.207682266831398,
          0.004152041859924793,
          0.004044597037136555,
          0,
          0.011465435847640038,
          0
         ],
         "yaxis": "y4"
        },
        {
         "hovertemplate": "user_id=89644563<br>emotion=surprise<br>year=%{x}<br>value=%{y}<extra></extra>",
         "legendgroup": "89644563",
         "line": {
          "color": "#FF6692",
          "dash": "solid"
         },
         "marker": {
          "symbol": "circle"
         },
         "mode": "lines+markers",
         "name": "89644563",
         "orientation": "v",
         "showlegend": false,
         "type": "scatter",
         "x": [
          2016,
          2018,
          2019,
          2020,
          2021,
          2022
         ],
         "xaxis": "x3",
         "y": [
          0.09660106152296066,
          0.043119996786117554,
          0.08696328848600388,
          0,
          0.013590146787464619,
          0
         ],
         "yaxis": "y3"
        },
        {
         "hovertemplate": "user_id=89644563<br>emotion=fear<br>year=%{x}<br>value=%{y}<extra></extra>",
         "legendgroup": "89644563",
         "line": {
          "color": "#FF6692",
          "dash": "solid"
         },
         "marker": {
          "symbol": "circle"
         },
         "mode": "lines+markers",
         "name": "89644563",
         "orientation": "v",
         "showlegend": false,
         "type": "scatter",
         "x": [
          2016,
          2018,
          2019,
          2020,
          2021,
          2022
         ],
         "xaxis": "x2",
         "y": [
          0.030257726088166237,
          0.06970628350973129,
          0.04035201296210289,
          0,
          0.0014529325999319553,
          0
         ],
         "yaxis": "y2"
        },
        {
         "hovertemplate": "user_id=89644563<br>emotion=anger<br>year=%{x}<br>value=%{y}<extra></extra>",
         "legendgroup": "89644563",
         "line": {
          "color": "#FF6692",
          "dash": "solid"
         },
         "marker": {
          "symbol": "circle"
         },
         "mode": "lines+markers",
         "name": "89644563",
         "orientation": "v",
         "showlegend": false,
         "type": "scatter",
         "x": [
          2016,
          2018,
          2019,
          2020,
          2021,
          2022
         ],
         "xaxis": "x",
         "y": [
          0.4826020896434784,
          0.07830946147441864,
          0.04863165691494942,
          0,
          0.01777242310345173,
          0
         ],
         "yaxis": "y"
        },
        {
         "hovertemplate": "user_id=173920498<br>emotion=no_emotion<br>year=%{x}<br>value=%{y}<extra></extra>",
         "legendgroup": "173920498",
         "line": {
          "color": "#B6E880",
          "dash": "solid"
         },
         "marker": {
          "symbol": "circle"
         },
         "mode": "lines+markers",
         "name": "173920498",
         "orientation": "v",
         "showlegend": true,
         "type": "scatter",
         "x": [
          2017,
          2018,
          2019,
          2020,
          2021,
          2022
         ],
         "xaxis": "x6",
         "y": [
          0.18912775110220537,
          0.4044142831116915,
          0.9825764000415802,
          0.3322644413759311,
          0.9860717058181763,
          0.3734075174046059
         ],
         "yaxis": "y6"
        },
        {
         "hovertemplate": "user_id=173920498<br>emotion=joy<br>year=%{x}<br>value=%{y}<extra></extra>",
         "legendgroup": "173920498",
         "line": {
          "color": "#B6E880",
          "dash": "solid"
         },
         "marker": {
          "symbol": "circle"
         },
         "mode": "lines+markers",
         "name": "173920498",
         "orientation": "v",
         "showlegend": false,
         "type": "scatter",
         "x": [
          2017,
          2018,
          2019,
          2020,
          2021,
          2022
         ],
         "xaxis": "x5",
         "y": [
          0.07208048354368657,
          0.17780049983412027,
          0.004611457232385874,
          0.22826481144875288,
          0.007165872026234865,
          0.4571743003713588
         ],
         "yaxis": "y5"
        },
        {
         "hovertemplate": "user_id=173920498<br>emotion=sadness<br>year=%{x}<br>value=%{y}<extra></extra>",
         "legendgroup": "173920498",
         "line": {
          "color": "#B6E880",
          "dash": "solid"
         },
         "marker": {
          "symbol": "circle"
         },
         "mode": "lines+markers",
         "name": "173920498",
         "orientation": "v",
         "showlegend": false,
         "type": "scatter",
         "x": [
          2017,
          2018,
          2019,
          2020,
          2021,
          2022
         ],
         "xaxis": "x4",
         "y": [
          0.14077994035324082,
          0.005234835708203415,
          0.006263989955186844,
          0.003139283818503221,
          0.003545792307704687,
          0.006623773059497277
         ],
         "yaxis": "y4"
        },
        {
         "hovertemplate": "user_id=173920498<br>emotion=surprise<br>year=%{x}<br>value=%{y}<extra></extra>",
         "legendgroup": "173920498",
         "line": {
          "color": "#B6E880",
          "dash": "solid"
         },
         "marker": {
          "symbol": "circle"
         },
         "mode": "lines+markers",
         "name": "173920498",
         "orientation": "v",
         "showlegend": false,
         "type": "scatter",
         "x": [
          2017,
          2018,
          2019,
          2020,
          2021,
          2022
         ],
         "xaxis": "x3",
         "y": [
          0.022619537194259465,
          0.009025315986946225,
          0.006526718148961663,
          0.012447049841284752,
          0.005940576083958149,
          0.1854526048215727
         ],
         "yaxis": "y3"
        },
        {
         "hovertemplate": "user_id=173920498<br>emotion=fear<br>year=%{x}<br>value=%{y}<extra></extra>",
         "legendgroup": "173920498",
         "line": {
          "color": "#B6E880",
          "dash": "solid"
         },
         "marker": {
          "symbol": "circle"
         },
         "mode": "lines+markers",
         "name": "173920498",
         "orientation": "v",
         "showlegend": false,
         "type": "scatter",
         "x": [
          2017,
          2018,
          2019,
          2020,
          2021,
          2022
         ],
         "xaxis": "x2",
         "y": [
          0.010833944485057145,
          0.003919834426293771,
          0.003550073248334229,
          0.04572204655657212,
          0.0037245210260152817,
          0.01636504304284851
         ],
         "yaxis": "y2"
        },
        {
         "hovertemplate": "user_id=173920498<br>emotion=anger<br>year=%{x}<br>value=%{y}<extra></extra>",
         "legendgroup": "173920498",
         "line": {
          "color": "#B6E880",
          "dash": "solid"
         },
         "marker": {
          "symbol": "circle"
         },
         "mode": "lines+markers",
         "name": "173920498",
         "orientation": "v",
         "showlegend": false,
         "type": "scatter",
         "x": [
          2017,
          2018,
          2019,
          2020,
          2021,
          2022
         ],
         "xaxis": "x",
         "y": [
          0.04808307735947892,
          0.0323039338303109,
          0.011208871379494667,
          0.008850965493669113,
          0.00521443597972393,
          0.027241455080608528
         ],
         "yaxis": "y"
        },
        {
         "hovertemplate": "user_id=157938870<br>emotion=no_emotion<br>year=%{x}<br>value=%{y}<extra></extra>",
         "legendgroup": "157938870",
         "line": {
          "color": "#FF97FF",
          "dash": "solid"
         },
         "marker": {
          "symbol": "circle"
         },
         "mode": "lines+markers",
         "name": "157938870",
         "orientation": "v",
         "showlegend": true,
         "type": "scatter",
         "x": [
          2017,
          2022
         ],
         "xaxis": "x6",
         "y": [
          0.5034849317744374,
          0.6023010976612568
         ],
         "yaxis": "y6"
        },
        {
         "hovertemplate": "user_id=157938870<br>emotion=joy<br>year=%{x}<br>value=%{y}<extra></extra>",
         "legendgroup": "157938870",
         "line": {
          "color": "#FF97FF",
          "dash": "solid"
         },
         "marker": {
          "symbol": "circle"
         },
         "mode": "lines+markers",
         "name": "157938870",
         "orientation": "v",
         "showlegend": false,
         "type": "scatter",
         "x": [
          2017,
          2022
         ],
         "xaxis": "x5",
         "y": [
          0.34055915055796504,
          0.2892621592618525
         ],
         "yaxis": "y5"
        },
        {
         "hovertemplate": "user_id=157938870<br>emotion=sadness<br>year=%{x}<br>value=%{y}<extra></extra>",
         "legendgroup": "157938870",
         "line": {
          "color": "#FF97FF",
          "dash": "solid"
         },
         "marker": {
          "symbol": "circle"
         },
         "mode": "lines+markers",
         "name": "157938870",
         "orientation": "v",
         "showlegend": false,
         "type": "scatter",
         "x": [
          2017,
          2022
         ],
         "xaxis": "x4",
         "y": [
          0.004425463732331991,
          0.00408827317878604
         ],
         "yaxis": "y4"
        },
        {
         "hovertemplate": "user_id=157938870<br>emotion=surprise<br>year=%{x}<br>value=%{y}<extra></extra>",
         "legendgroup": "157938870",
         "line": {
          "color": "#FF97FF",
          "dash": "solid"
         },
         "marker": {
          "symbol": "circle"
         },
         "mode": "lines+markers",
         "name": "157938870",
         "orientation": "v",
         "showlegend": false,
         "type": "scatter",
         "x": [
          2017,
          2022
         ],
         "xaxis": "x3",
         "y": [
          0.05993419839069247,
          0.023079898301512004
         ],
         "yaxis": "y3"
        },
        {
         "hovertemplate": "user_id=157938870<br>emotion=fear<br>year=%{x}<br>value=%{y}<extra></extra>",
         "legendgroup": "157938870",
         "line": {
          "color": "#FF97FF",
          "dash": "solid"
         },
         "marker": {
          "symbol": "circle"
         },
         "mode": "lines+markers",
         "name": "157938870",
         "orientation": "v",
         "showlegend": false,
         "type": "scatter",
         "x": [
          2017,
          2022
         ],
         "xaxis": "x2",
         "y": [
          0.014309613266959786,
          0.009758134186267853
         ],
         "yaxis": "y2"
        },
        {
         "hovertemplate": "user_id=157938870<br>emotion=anger<br>year=%{x}<br>value=%{y}<extra></extra>",
         "legendgroup": "157938870",
         "line": {
          "color": "#FF97FF",
          "dash": "solid"
         },
         "marker": {
          "symbol": "circle"
         },
         "mode": "lines+markers",
         "name": "157938870",
         "orientation": "v",
         "showlegend": false,
         "type": "scatter",
         "x": [
          2017,
          2022
         ],
         "xaxis": "x",
         "y": [
          0.18067162786610425,
          0.15264026699587702
         ],
         "yaxis": "y"
        },
        {
         "hovertemplate": "user_id=157971403<br>emotion=no_emotion<br>year=%{x}<br>value=%{y}<extra></extra>",
         "legendgroup": "157971403",
         "line": {
          "color": "#FECB52",
          "dash": "solid"
         },
         "marker": {
          "symbol": "circle"
         },
         "mode": "lines+markers",
         "name": "157971403",
         "orientation": "v",
         "showlegend": true,
         "type": "scatter",
         "x": [
          2017,
          2018,
          2019,
          2020
         ],
         "xaxis": "x6",
         "y": [
          0.311305177398026,
          0.22111697122454643,
          0.03906910866498947,
          0.03523184731602669
         ],
         "yaxis": "y6"
        },
        {
         "hovertemplate": "user_id=157971403<br>emotion=joy<br>year=%{x}<br>value=%{y}<extra></extra>",
         "legendgroup": "157971403",
         "line": {
          "color": "#FECB52",
          "dash": "solid"
         },
         "marker": {
          "symbol": "circle"
         },
         "mode": "lines+markers",
         "name": "157971403",
         "orientation": "v",
         "showlegend": false,
         "type": "scatter",
         "x": [
          2017,
          2018,
          2019,
          2020
         ],
         "xaxis": "x5",
         "y": [
          0.019032990171884496,
          0.003940401715226471,
          0.0013319042045623064,
          0.1619298905134201
         ],
         "yaxis": "y5"
        },
        {
         "hovertemplate": "user_id=157971403<br>emotion=sadness<br>year=%{x}<br>value=%{y}<extra></extra>",
         "legendgroup": "157971403",
         "line": {
          "color": "#FECB52",
          "dash": "solid"
         },
         "marker": {
          "symbol": "circle"
         },
         "mode": "lines+markers",
         "name": "157971403",
         "orientation": "v",
         "showlegend": false,
         "type": "scatter",
         "x": [
          2017,
          2018,
          2019,
          2020
         ],
         "xaxis": "x4",
         "y": [
          0.11431838890227179,
          0.00319326831959188,
          0.0010111492592841387,
          0.0015908925561234355
         ],
         "yaxis": "y4"
        },
        {
         "hovertemplate": "user_id=157971403<br>emotion=surprise<br>year=%{x}<br>value=%{y}<extra></extra>",
         "legendgroup": "157971403",
         "line": {
          "color": "#FECB52",
          "dash": "solid"
         },
         "marker": {
          "symbol": "circle"
         },
         "mode": "lines+markers",
         "name": "157971403",
         "orientation": "v",
         "showlegend": false,
         "type": "scatter",
         "x": [
          2017,
          2018,
          2019,
          2020
         ],
         "xaxis": "x3",
         "y": [
          0.15334633272141218,
          0.05505747109418735,
          0.02174082212150097,
          0.522011399269104
         ],
         "yaxis": "y3"
        },
        {
         "hovertemplate": "user_id=157971403<br>emotion=fear<br>year=%{x}<br>value=%{y}<extra></extra>",
         "legendgroup": "157971403",
         "line": {
          "color": "#FECB52",
          "dash": "solid"
         },
         "marker": {
          "symbol": "circle"
         },
         "mode": "lines+markers",
         "name": "157971403",
         "orientation": "v",
         "showlegend": false,
         "type": "scatter",
         "x": [
          2017,
          2018,
          2019,
          2020
         ],
         "xaxis": "x2",
         "y": [
          0.03886910527944565,
          0.0257504535256885,
          0.010088003240525723,
          0.04122313857078552
         ],
         "yaxis": "y2"
        },
        {
         "hovertemplate": "user_id=157971403<br>emotion=anger<br>year=%{x}<br>value=%{y}<extra></extra>",
         "legendgroup": "157971403",
         "line": {
          "color": "#FECB52",
          "dash": "solid"
         },
         "marker": {
          "symbol": "circle"
         },
         "mode": "lines+markers",
         "name": "157971403",
         "orientation": "v",
         "showlegend": false,
         "type": "scatter",
         "x": [
          2017,
          2018,
          2019,
          2020
         ],
         "xaxis": "x",
         "y": [
          0.23489605092133084,
          0.031078085768967867,
          0.012157914228737354,
          0.09348180145025253
         ],
         "yaxis": "y"
        },
        {
         "hovertemplate": "user_id=451075313<br>emotion=no_emotion<br>year=%{x}<br>value=%{y}<extra></extra>",
         "legendgroup": "451075313",
         "line": {
          "color": "#636efa",
          "dash": "solid"
         },
         "marker": {
          "symbol": "circle"
         },
         "mode": "lines+markers",
         "name": "451075313",
         "orientation": "v",
         "showlegend": true,
         "type": "scatter",
         "x": [
          2018,
          2019,
          2020
         ],
         "xaxis": "x6",
         "y": [
          0.0709739708951835,
          0.0072022974491119385,
          0
         ],
         "yaxis": "y6"
        },
        {
         "hovertemplate": "user_id=451075313<br>emotion=joy<br>year=%{x}<br>value=%{y}<extra></extra>",
         "legendgroup": "451075313",
         "line": {
          "color": "#636efa",
          "dash": "solid"
         },
         "marker": {
          "symbol": "circle"
         },
         "mode": "lines+markers",
         "name": "451075313",
         "orientation": "v",
         "showlegend": false,
         "type": "scatter",
         "x": [
          2018,
          2019,
          2020
         ],
         "xaxis": "x5",
         "y": [
          0.023144659794995498,
          0.00014580168168653142,
          0
         ],
         "yaxis": "y5"
        },
        {
         "hovertemplate": "user_id=451075313<br>emotion=sadness<br>year=%{x}<br>value=%{y}<extra></extra>",
         "legendgroup": "451075313",
         "line": {
          "color": "#636efa",
          "dash": "solid"
         },
         "marker": {
          "symbol": "circle"
         },
         "mode": "lines+markers",
         "name": "451075313",
         "orientation": "v",
         "showlegend": false,
         "type": "scatter",
         "x": [
          2018,
          2019,
          2020
         ],
         "xaxis": "x4",
         "y": [
          0.0005247147256058866,
          0.0008061512966047634,
          0
         ],
         "yaxis": "y4"
        },
        {
         "hovertemplate": "user_id=451075313<br>emotion=surprise<br>year=%{x}<br>value=%{y}<extra></extra>",
         "legendgroup": "451075313",
         "line": {
          "color": "#636efa",
          "dash": "solid"
         },
         "marker": {
          "symbol": "circle"
         },
         "mode": "lines+markers",
         "name": "451075313",
         "orientation": "v",
         "showlegend": false,
         "type": "scatter",
         "x": [
          2018,
          2019,
          2020
         ],
         "xaxis": "x3",
         "y": [
          0.017924033362289954,
          0.011634819886901161,
          0
         ],
         "yaxis": "y3"
        },
        {
         "hovertemplate": "user_id=451075313<br>emotion=fear<br>year=%{x}<br>value=%{y}<extra></extra>",
         "legendgroup": "451075313",
         "line": {
          "color": "#636efa",
          "dash": "solid"
         },
         "marker": {
          "symbol": "circle"
         },
         "mode": "lines+markers",
         "name": "451075313",
         "orientation": "v",
         "showlegend": false,
         "type": "scatter",
         "x": [
          2018,
          2019,
          2020
         ],
         "xaxis": "x2",
         "y": [
          0.001340858678429805,
          0.0007309828122908419,
          0
         ],
         "yaxis": "y2"
        },
        {
         "hovertemplate": "user_id=451075313<br>emotion=anger<br>year=%{x}<br>value=%{y}<extra></extra>",
         "legendgroup": "451075313",
         "line": {
          "color": "#636efa",
          "dash": "solid"
         },
         "marker": {
          "symbol": "circle"
         },
         "mode": "lines+markers",
         "name": "451075313",
         "orientation": "v",
         "showlegend": false,
         "type": "scatter",
         "x": [
          2018,
          2019,
          2020
         ],
         "xaxis": "x",
         "y": [
          0.008605939898126084,
          0.006089933216571808,
          0
         ],
         "yaxis": "y"
        }
       ],
       "layout": {
        "annotations": [
         {
          "font": {},
          "showarrow": false,
          "text": "emotion=anger",
          "x": 0.5,
          "xanchor": "center",
          "xref": "paper",
          "y": 0.10833333333333331,
          "yanchor": "bottom",
          "yref": "paper"
         },
         {
          "font": {},
          "showarrow": false,
          "text": "emotion=fear",
          "x": 0.5,
          "xanchor": "center",
          "xref": "paper",
          "y": 0.2866666666666666,
          "yanchor": "bottom",
          "yref": "paper"
         },
         {
          "font": {},
          "showarrow": false,
          "text": "emotion=surprise",
          "x": 0.5,
          "xanchor": "center",
          "xref": "paper",
          "y": 0.46499999999999997,
          "yanchor": "bottom",
          "yref": "paper"
         },
         {
          "font": {},
          "showarrow": false,
          "text": "emotion=sadness",
          "x": 0.5,
          "xanchor": "center",
          "xref": "paper",
          "y": 0.6433333333333332,
          "yanchor": "bottom",
          "yref": "paper"
         },
         {
          "font": {},
          "showarrow": false,
          "text": "emotion=joy",
          "x": 0.5,
          "xanchor": "center",
          "xref": "paper",
          "y": 0.8216666666666665,
          "yanchor": "bottom",
          "yref": "paper"
         },
         {
          "font": {},
          "showarrow": false,
          "text": "emotion=no_emotion",
          "x": 0.5,
          "xanchor": "center",
          "xref": "paper",
          "y": 0.9999999999999999,
          "yanchor": "bottom",
          "yref": "paper"
         }
        ],
        "height": 1600,
        "legend": {
         "title": {
          "text": "user_id"
         },
         "tracegroupgap": 0
        },
        "margin": {
         "t": 60
        },
        "template": {
         "data": {
          "bar": [
           {
            "error_x": {
             "color": "#2a3f5f"
            },
            "error_y": {
             "color": "#2a3f5f"
            },
            "marker": {
             "line": {
              "color": "#E5ECF6",
              "width": 0.5
             },
             "pattern": {
              "fillmode": "overlay",
              "size": 10,
              "solidity": 0.2
             }
            },
            "type": "bar"
           }
          ],
          "barpolar": [
           {
            "marker": {
             "line": {
              "color": "#E5ECF6",
              "width": 0.5
             },
             "pattern": {
              "fillmode": "overlay",
              "size": 10,
              "solidity": 0.2
             }
            },
            "type": "barpolar"
           }
          ],
          "carpet": [
           {
            "aaxis": {
             "endlinecolor": "#2a3f5f",
             "gridcolor": "white",
             "linecolor": "white",
             "minorgridcolor": "white",
             "startlinecolor": "#2a3f5f"
            },
            "baxis": {
             "endlinecolor": "#2a3f5f",
             "gridcolor": "white",
             "linecolor": "white",
             "minorgridcolor": "white",
             "startlinecolor": "#2a3f5f"
            },
            "type": "carpet"
           }
          ],
          "choropleth": [
           {
            "colorbar": {
             "outlinewidth": 0,
             "ticks": ""
            },
            "type": "choropleth"
           }
          ],
          "contour": [
           {
            "colorbar": {
             "outlinewidth": 0,
             "ticks": ""
            },
            "colorscale": [
             [
              0,
              "#0d0887"
             ],
             [
              0.1111111111111111,
              "#46039f"
             ],
             [
              0.2222222222222222,
              "#7201a8"
             ],
             [
              0.3333333333333333,
              "#9c179e"
             ],
             [
              0.4444444444444444,
              "#bd3786"
             ],
             [
              0.5555555555555556,
              "#d8576b"
             ],
             [
              0.6666666666666666,
              "#ed7953"
             ],
             [
              0.7777777777777778,
              "#fb9f3a"
             ],
             [
              0.8888888888888888,
              "#fdca26"
             ],
             [
              1,
              "#f0f921"
             ]
            ],
            "type": "contour"
           }
          ],
          "contourcarpet": [
           {
            "colorbar": {
             "outlinewidth": 0,
             "ticks": ""
            },
            "type": "contourcarpet"
           }
          ],
          "heatmap": [
           {
            "colorbar": {
             "outlinewidth": 0,
             "ticks": ""
            },
            "colorscale": [
             [
              0,
              "#0d0887"
             ],
             [
              0.1111111111111111,
              "#46039f"
             ],
             [
              0.2222222222222222,
              "#7201a8"
             ],
             [
              0.3333333333333333,
              "#9c179e"
             ],
             [
              0.4444444444444444,
              "#bd3786"
             ],
             [
              0.5555555555555556,
              "#d8576b"
             ],
             [
              0.6666666666666666,
              "#ed7953"
             ],
             [
              0.7777777777777778,
              "#fb9f3a"
             ],
             [
              0.8888888888888888,
              "#fdca26"
             ],
             [
              1,
              "#f0f921"
             ]
            ],
            "type": "heatmap"
           }
          ],
          "heatmapgl": [
           {
            "colorbar": {
             "outlinewidth": 0,
             "ticks": ""
            },
            "colorscale": [
             [
              0,
              "#0d0887"
             ],
             [
              0.1111111111111111,
              "#46039f"
             ],
             [
              0.2222222222222222,
              "#7201a8"
             ],
             [
              0.3333333333333333,
              "#9c179e"
             ],
             [
              0.4444444444444444,
              "#bd3786"
             ],
             [
              0.5555555555555556,
              "#d8576b"
             ],
             [
              0.6666666666666666,
              "#ed7953"
             ],
             [
              0.7777777777777778,
              "#fb9f3a"
             ],
             [
              0.8888888888888888,
              "#fdca26"
             ],
             [
              1,
              "#f0f921"
             ]
            ],
            "type": "heatmapgl"
           }
          ],
          "histogram": [
           {
            "marker": {
             "pattern": {
              "fillmode": "overlay",
              "size": 10,
              "solidity": 0.2
             }
            },
            "type": "histogram"
           }
          ],
          "histogram2d": [
           {
            "colorbar": {
             "outlinewidth": 0,
             "ticks": ""
            },
            "colorscale": [
             [
              0,
              "#0d0887"
             ],
             [
              0.1111111111111111,
              "#46039f"
             ],
             [
              0.2222222222222222,
              "#7201a8"
             ],
             [
              0.3333333333333333,
              "#9c179e"
             ],
             [
              0.4444444444444444,
              "#bd3786"
             ],
             [
              0.5555555555555556,
              "#d8576b"
             ],
             [
              0.6666666666666666,
              "#ed7953"
             ],
             [
              0.7777777777777778,
              "#fb9f3a"
             ],
             [
              0.8888888888888888,
              "#fdca26"
             ],
             [
              1,
              "#f0f921"
             ]
            ],
            "type": "histogram2d"
           }
          ],
          "histogram2dcontour": [
           {
            "colorbar": {
             "outlinewidth": 0,
             "ticks": ""
            },
            "colorscale": [
             [
              0,
              "#0d0887"
             ],
             [
              0.1111111111111111,
              "#46039f"
             ],
             [
              0.2222222222222222,
              "#7201a8"
             ],
             [
              0.3333333333333333,
              "#9c179e"
             ],
             [
              0.4444444444444444,
              "#bd3786"
             ],
             [
              0.5555555555555556,
              "#d8576b"
             ],
             [
              0.6666666666666666,
              "#ed7953"
             ],
             [
              0.7777777777777778,
              "#fb9f3a"
             ],
             [
              0.8888888888888888,
              "#fdca26"
             ],
             [
              1,
              "#f0f921"
             ]
            ],
            "type": "histogram2dcontour"
           }
          ],
          "mesh3d": [
           {
            "colorbar": {
             "outlinewidth": 0,
             "ticks": ""
            },
            "type": "mesh3d"
           }
          ],
          "parcoords": [
           {
            "line": {
             "colorbar": {
              "outlinewidth": 0,
              "ticks": ""
             }
            },
            "type": "parcoords"
           }
          ],
          "pie": [
           {
            "automargin": true,
            "type": "pie"
           }
          ],
          "scatter": [
           {
            "fillpattern": {
             "fillmode": "overlay",
             "size": 10,
             "solidity": 0.2
            },
            "type": "scatter"
           }
          ],
          "scatter3d": [
           {
            "line": {
             "colorbar": {
              "outlinewidth": 0,
              "ticks": ""
             }
            },
            "marker": {
             "colorbar": {
              "outlinewidth": 0,
              "ticks": ""
             }
            },
            "type": "scatter3d"
           }
          ],
          "scattercarpet": [
           {
            "marker": {
             "colorbar": {
              "outlinewidth": 0,
              "ticks": ""
             }
            },
            "type": "scattercarpet"
           }
          ],
          "scattergeo": [
           {
            "marker": {
             "colorbar": {
              "outlinewidth": 0,
              "ticks": ""
             }
            },
            "type": "scattergeo"
           }
          ],
          "scattergl": [
           {
            "marker": {
             "colorbar": {
              "outlinewidth": 0,
              "ticks": ""
             }
            },
            "type": "scattergl"
           }
          ],
          "scattermapbox": [
           {
            "marker": {
             "colorbar": {
              "outlinewidth": 0,
              "ticks": ""
             }
            },
            "type": "scattermapbox"
           }
          ],
          "scatterpolar": [
           {
            "marker": {
             "colorbar": {
              "outlinewidth": 0,
              "ticks": ""
             }
            },
            "type": "scatterpolar"
           }
          ],
          "scatterpolargl": [
           {
            "marker": {
             "colorbar": {
              "outlinewidth": 0,
              "ticks": ""
             }
            },
            "type": "scatterpolargl"
           }
          ],
          "scatterternary": [
           {
            "marker": {
             "colorbar": {
              "outlinewidth": 0,
              "ticks": ""
             }
            },
            "type": "scatterternary"
           }
          ],
          "surface": [
           {
            "colorbar": {
             "outlinewidth": 0,
             "ticks": ""
            },
            "colorscale": [
             [
              0,
              "#0d0887"
             ],
             [
              0.1111111111111111,
              "#46039f"
             ],
             [
              0.2222222222222222,
              "#7201a8"
             ],
             [
              0.3333333333333333,
              "#9c179e"
             ],
             [
              0.4444444444444444,
              "#bd3786"
             ],
             [
              0.5555555555555556,
              "#d8576b"
             ],
             [
              0.6666666666666666,
              "#ed7953"
             ],
             [
              0.7777777777777778,
              "#fb9f3a"
             ],
             [
              0.8888888888888888,
              "#fdca26"
             ],
             [
              1,
              "#f0f921"
             ]
            ],
            "type": "surface"
           }
          ],
          "table": [
           {
            "cells": {
             "fill": {
              "color": "#EBF0F8"
             },
             "line": {
              "color": "white"
             }
            },
            "header": {
             "fill": {
              "color": "#C8D4E3"
             },
             "line": {
              "color": "white"
             }
            },
            "type": "table"
           }
          ]
         },
         "layout": {
          "annotationdefaults": {
           "arrowcolor": "#2a3f5f",
           "arrowhead": 0,
           "arrowwidth": 1
          },
          "autotypenumbers": "strict",
          "coloraxis": {
           "colorbar": {
            "outlinewidth": 0,
            "ticks": ""
           }
          },
          "colorscale": {
           "diverging": [
            [
             0,
             "#8e0152"
            ],
            [
             0.1,
             "#c51b7d"
            ],
            [
             0.2,
             "#de77ae"
            ],
            [
             0.3,
             "#f1b6da"
            ],
            [
             0.4,
             "#fde0ef"
            ],
            [
             0.5,
             "#f7f7f7"
            ],
            [
             0.6,
             "#e6f5d0"
            ],
            [
             0.7,
             "#b8e186"
            ],
            [
             0.8,
             "#7fbc41"
            ],
            [
             0.9,
             "#4d9221"
            ],
            [
             1,
             "#276419"
            ]
           ],
           "sequential": [
            [
             0,
             "#0d0887"
            ],
            [
             0.1111111111111111,
             "#46039f"
            ],
            [
             0.2222222222222222,
             "#7201a8"
            ],
            [
             0.3333333333333333,
             "#9c179e"
            ],
            [
             0.4444444444444444,
             "#bd3786"
            ],
            [
             0.5555555555555556,
             "#d8576b"
            ],
            [
             0.6666666666666666,
             "#ed7953"
            ],
            [
             0.7777777777777778,
             "#fb9f3a"
            ],
            [
             0.8888888888888888,
             "#fdca26"
            ],
            [
             1,
             "#f0f921"
            ]
           ],
           "sequentialminus": [
            [
             0,
             "#0d0887"
            ],
            [
             0.1111111111111111,
             "#46039f"
            ],
            [
             0.2222222222222222,
             "#7201a8"
            ],
            [
             0.3333333333333333,
             "#9c179e"
            ],
            [
             0.4444444444444444,
             "#bd3786"
            ],
            [
             0.5555555555555556,
             "#d8576b"
            ],
            [
             0.6666666666666666,
             "#ed7953"
            ],
            [
             0.7777777777777778,
             "#fb9f3a"
            ],
            [
             0.8888888888888888,
             "#fdca26"
            ],
            [
             1,
             "#f0f921"
            ]
           ]
          },
          "colorway": [
           "#636efa",
           "#EF553B",
           "#00cc96",
           "#ab63fa",
           "#FFA15A",
           "#19d3f3",
           "#FF6692",
           "#B6E880",
           "#FF97FF",
           "#FECB52"
          ],
          "font": {
           "color": "#2a3f5f"
          },
          "geo": {
           "bgcolor": "white",
           "lakecolor": "white",
           "landcolor": "#E5ECF6",
           "showlakes": true,
           "showland": true,
           "subunitcolor": "white"
          },
          "hoverlabel": {
           "align": "left"
          },
          "hovermode": "closest",
          "mapbox": {
           "style": "light"
          },
          "paper_bgcolor": "white",
          "plot_bgcolor": "#E5ECF6",
          "polar": {
           "angularaxis": {
            "gridcolor": "white",
            "linecolor": "white",
            "ticks": ""
           },
           "bgcolor": "#E5ECF6",
           "radialaxis": {
            "gridcolor": "white",
            "linecolor": "white",
            "ticks": ""
           }
          },
          "scene": {
           "xaxis": {
            "backgroundcolor": "#E5ECF6",
            "gridcolor": "white",
            "gridwidth": 2,
            "linecolor": "white",
            "showbackground": true,
            "ticks": "",
            "zerolinecolor": "white"
           },
           "yaxis": {
            "backgroundcolor": "#E5ECF6",
            "gridcolor": "white",
            "gridwidth": 2,
            "linecolor": "white",
            "showbackground": true,
            "ticks": "",
            "zerolinecolor": "white"
           },
           "zaxis": {
            "backgroundcolor": "#E5ECF6",
            "gridcolor": "white",
            "gridwidth": 2,
            "linecolor": "white",
            "showbackground": true,
            "ticks": "",
            "zerolinecolor": "white"
           }
          },
          "shapedefaults": {
           "line": {
            "color": "#2a3f5f"
           }
          },
          "ternary": {
           "aaxis": {
            "gridcolor": "white",
            "linecolor": "white",
            "ticks": ""
           },
           "baxis": {
            "gridcolor": "white",
            "linecolor": "white",
            "ticks": ""
           },
           "bgcolor": "#E5ECF6",
           "caxis": {
            "gridcolor": "white",
            "linecolor": "white",
            "ticks": ""
           }
          },
          "title": {
           "x": 0.05
          },
          "xaxis": {
           "automargin": true,
           "gridcolor": "white",
           "linecolor": "white",
           "ticks": "",
           "title": {
            "standoff": 15
           },
           "zerolinecolor": "white",
           "zerolinewidth": 2
          },
          "yaxis": {
           "automargin": true,
           "gridcolor": "white",
           "linecolor": "white",
           "ticks": "",
           "title": {
            "standoff": 15
           },
           "zerolinecolor": "white",
           "zerolinewidth": 2
          }
         }
        },
        "title": {
         "text": "Динамические профили пользователей по годам"
        },
        "width": 1400,
        "xaxis": {
         "anchor": "y",
         "domain": [
          0,
          1
         ],
         "title": {
          "text": "year"
         }
        },
        "xaxis2": {
         "anchor": "y2",
         "domain": [
          0,
          1
         ],
         "matches": "x",
         "showticklabels": false
        },
        "xaxis3": {
         "anchor": "y3",
         "domain": [
          0,
          1
         ],
         "matches": "x",
         "showticklabels": false
        },
        "xaxis4": {
         "anchor": "y4",
         "domain": [
          0,
          1
         ],
         "matches": "x",
         "showticklabels": false
        },
        "xaxis5": {
         "anchor": "y5",
         "domain": [
          0,
          1
         ],
         "matches": "x",
         "showticklabels": false
        },
        "xaxis6": {
         "anchor": "y6",
         "domain": [
          0,
          1
         ],
         "matches": "x",
         "showticklabels": false
        },
        "yaxis": {
         "anchor": "x",
         "domain": [
          0,
          0.10833333333333331
         ],
         "title": {
          "text": "value"
         },
         "type": "log"
        },
        "yaxis2": {
         "anchor": "x2",
         "domain": [
          0.17833333333333332,
          0.2866666666666666
         ],
         "matches": "y",
         "title": {
          "text": "value"
         },
         "type": "log"
        },
        "yaxis3": {
         "anchor": "x3",
         "domain": [
          0.35666666666666663,
          0.46499999999999997
         ],
         "matches": "y",
         "title": {
          "text": "value"
         },
         "type": "log"
        },
        "yaxis4": {
         "anchor": "x4",
         "domain": [
          0.5349999999999999,
          0.6433333333333332
         ],
         "matches": "y",
         "title": {
          "text": "value"
         },
         "type": "log"
        },
        "yaxis5": {
         "anchor": "x5",
         "domain": [
          0.7133333333333333,
          0.8216666666666665
         ],
         "matches": "y",
         "title": {
          "text": "value"
         },
         "type": "log"
        },
        "yaxis6": {
         "anchor": "x6",
         "domain": [
          0.8916666666666666,
          0.9999999999999999
         ],
         "matches": "y",
         "title": {
          "text": "value"
         },
         "type": "log"
        }
       }
      }
     },
     "metadata": {},
     "output_type": "display_data"
    }
   ],
   "source": [
    "fig = px.line(\n",
    "    user_emotions_by_year_for_graph, \n",
    "    x='year', \n",
    "    y='value', \n",
    "    log_y=True,\n",
    "    markers=True,\n",
    "    color='user_id', \n",
    "    facet_col_wrap=1,\n",
    "    facet_col='emotion',\n",
    ")\n",
    "\n",
    "fig.update_layout(\n",
    "    height=1600, width=1400,\n",
    "    title_text='Динамические профили пользователей по годам',\n",
    ")\n",
    "\n",
    "fig.show()"
   ]
  }
 ],
 "metadata": {
  "kernelspec": {
   "display_name": "Python 3.10.8 ('.venv': venv)",
   "language": "python",
   "name": "python3"
  },
  "language_info": {
   "codemirror_mode": {
    "name": "ipython",
    "version": 3
   },
   "file_extension": ".py",
   "mimetype": "text/x-python",
   "name": "python",
   "nbconvert_exporter": "python",
   "pygments_lexer": "ipython3",
   "version": "3.10.8"
  },
  "orig_nbformat": 4,
  "vscode": {
   "interpreter": {
    "hash": "7405f0b0f8b6c25d466772f8d73d0489436399ae8f2b5ec2c5dfec76aa595b0e"
   }
  }
 },
 "nbformat": 4,
 "nbformat_minor": 2
}
